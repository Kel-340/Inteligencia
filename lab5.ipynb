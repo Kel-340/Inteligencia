{
  "cells": [
    {
      "cell_type": "code",
      "execution_count": 2,
      "metadata": {
        "colab": {
          "base_uri": "https://localhost:8080/"
        },
        "id": "3MwNHtcbNd17",
        "outputId": "4ce404ca-af6f-4e22-f36c-accc2d6791fc"
      },
      "outputs": [
        {
          "output_type": "stream",
          "name": "stdout",
          "text": [
            "Mounted at /content/drive\n"
          ]
        }
      ],
      "source": [
        "from google.colab import drive\n",
        "drive.mount('/content/drive')"
      ]
    },
    {
      "cell_type": "code",
      "execution_count": 3,
      "metadata": {
        "id": "NAN_UDC3NRoE"
      },
      "outputs": [],
      "source": [
        "# used for manipulating directory paths\n",
        "import os\n",
        "\n",
        "# Scientific and vector computation for python\n",
        "import numpy as np\n",
        "\n",
        "import pandas as pd\n",
        "\n",
        "# Plotting library\n",
        "from matplotlib import pyplot\n",
        "\n",
        "# Optimization module in scipy\n",
        "from scipy import optimize\n",
        "\n",
        "# will be used to load MATLAB mat datafile format\n",
        "# from scipy.io import loadmat\n",
        "\n",
        "# library written for this exercise providing additional functions for assignment submission, and others\n",
        "# import utils\n",
        "\n",
        "\n",
        "# tells matplotlib to embed plots within the notebook\n",
        "%matplotlib inline"
      ]
    },
    {
      "cell_type": "code",
      "execution_count": 4,
      "metadata": {
        "colab": {
          "base_uri": "https://localhost:8080/"
        },
        "id": "kzj2oZ-kNW8u",
        "outputId": "b8404ccd-3068-498b-c921-d8dcbc0094d0"
      },
      "outputs": [
        {
          "output_type": "stream",
          "name": "stdout",
          "text": [
            "(80000, 19)\n",
            "(80000,)\n",
            "(19960, 19)\n",
            "(19960,)\n",
            "       Delay_from_due_date  Num_of_Delayed_Payment  Num_Credit_Inquiries  \\\n",
            "0                      3.0                     7.0                   4.0   \n",
            "1                      3.0                     7.0                   4.0   \n",
            "2                      3.0                     7.0                   4.0   \n",
            "3                      5.0                     4.0                   4.0   \n",
            "4                      6.0                     4.0                   4.0   \n",
            "...                    ...                     ...                   ...   \n",
            "79995                 22.0                    23.0                   6.0   \n",
            "79996                 22.0                    23.0                   6.0   \n",
            "79997                 22.0                    23.0                   6.0   \n",
            "79998                 27.0                    20.0                   6.0   \n",
            "79999                 23.0                    20.0                   7.0   \n",
            "\n",
            "       Credit_Utilization_Ratio  Credit_History_Age  Payment_of_Min_Amount  \\\n",
            "0                     26.822620               265.0                      0   \n",
            "1                     31.944960               265.0                      0   \n",
            "2                     28.609352               267.0                      0   \n",
            "3                     31.377862               268.0                      0   \n",
            "4                     24.797347               269.0                      0   \n",
            "...                         ...                 ...                    ...   \n",
            "79995                 30.953095                90.0                      1   \n",
            "79996                 28.682017                91.0                      1   \n",
            "79997                 30.298027                92.0                      1   \n",
            "79998                 40.122540                93.0                      1   \n",
            "79999                 39.851982                94.0                      1   \n",
            "\n",
            "       Amount_invested_monthly  Monthly_Balance  Credit_Mix   Age  \\\n",
            "0                    80.415295       312.494089           2  23.0   \n",
            "1                   118.280222       284.629162           2  23.0   \n",
            "2                    81.699521       331.209863           2  23.0   \n",
            "3                   199.458074       223.451310           2  23.0   \n",
            "4                    41.420153       341.489231           2  23.0   \n",
            "...                        ...              ...         ...   ...   \n",
            "79995                27.999901       246.013358           0  43.0   \n",
            "79996                16.446032       277.567227           0  43.0   \n",
            "79997                19.327024       244.686235           0  43.0   \n",
            "79998                45.092408       248.920851           0  43.0   \n",
            "79999                27.999901       255.512235           0  43.0   \n",
            "\n",
            "       Annual_Income  Num_Bank_Accounts  Num_Credit_Card  Interest_Rate  \\\n",
            "0          19114.120                3.0              4.0            3.0   \n",
            "1          19114.120                3.0              4.0            3.0   \n",
            "2          19114.120                3.0              4.0            3.0   \n",
            "3          19114.120                3.0              4.0            3.0   \n",
            "4          19114.120                3.0              4.0            3.0   \n",
            "...              ...                ...              ...            ...   \n",
            "79995       7006.035                9.0              5.0           24.0   \n",
            "79996       7006.035                9.0              5.0           24.0   \n",
            "79997       7006.035                9.0              5.0           24.0   \n",
            "79998       7006.035                9.0              5.0           24.0   \n",
            "79999       7006.035                9.0              5.0           24.0   \n",
            "\n",
            "       Num_of_Loan  Monthly_Inhand_Salary  Changed_Credit_Limit  \\\n",
            "0              4.0            1824.843333                 11.27   \n",
            "1              4.0            1824.843333                 11.27   \n",
            "2              4.0            1824.843333                 11.27   \n",
            "3              4.0            1824.843333                 11.27   \n",
            "4              4.0            1824.843333                 11.27   \n",
            "...            ...                    ...                   ...   \n",
            "79995          9.0             421.836250                 19.80   \n",
            "79996          9.0             421.836250                 19.80   \n",
            "79997          9.0             421.836250                 19.80   \n",
            "79998          9.0             421.836250                 19.80   \n",
            "79999          9.0             421.836250                 19.80   \n",
            "\n",
            "       Outstanding_Debt  Total_EMI_per_month  \n",
            "0                809.98            49.574949  \n",
            "1                809.98            49.574949  \n",
            "2                809.98            49.574949  \n",
            "3                809.98            49.574949  \n",
            "4                809.98            49.574949  \n",
            "...                 ...                  ...  \n",
            "79995           2641.08            38.170366  \n",
            "79996           2641.08            38.170366  \n",
            "79997           2641.08            38.170366  \n",
            "79998           2641.08            38.170366  \n",
            "79999           2641.08            38.170366  \n",
            "\n",
            "[80000 rows x 19 columns]\n"
          ]
        }
      ],
      "source": [
        "\n",
        "# Cargar el dataset\n",
        "df = pd.read_csv('/content/drive/MyDrive/Score.csv', sep=\",\")\n",
        "\n",
        "diccionario = {\"Poor\": 0, \"Standard\": 1, \"Good\": 2}\n",
        "df[\"Credit_Score\"] = df[\"Credit_Score\"].replace(diccionario)\n",
        "\n",
        "diccionario1 = {\"No\": 0, \"Yes\": 1, \"NM\": 2}\n",
        "df[\"Payment_of_Min_Amount\"] = df[\"Payment_of_Min_Amount\"].replace(diccionario1)\n",
        "\n",
        "diccionario2 = {\"Bad\": 0, \"Standard\": 1, \"Good\": 2}\n",
        "df[\"Credit_Mix\"] = df[\"Credit_Mix\"].replace(diccionario2)\n",
        "\n",
        "df = df.drop(\"Payment_Behaviour\", axis=1)\n",
        "\n",
        "df.drop_duplicates(inplace=True)\n",
        "df.dropna(axis=0, thresh=2, inplace=True)  # Elimina filas con n o más valores nulos.\n",
        "\n",
        "# Seleccionar las características (features) y la variable objetivo (target)\n",
        "X_train = df.iloc[:80000, df.columns != \"Credit_Score\"]\n",
        "y_train = df.iloc[:80000, df.columns.get_loc(\"Credit_Score\")]\n",
        "\n",
        "X_test = df.iloc[80000:, df.columns != \"Credit_Score\"]\n",
        "y_test = df.iloc[80000:, df.columns.get_loc(\"Credit_Score\")]\n",
        "\n",
        "X = X_train\n",
        "y = y_train\n",
        "\n",
        "y = np.array([int(e) for e in y])\n",
        "y = np.squeeze(y)\n",
        "\n",
        "print(X.shape)\n",
        "print(y.shape)\n",
        "print(X_test.shape)\n",
        "print(y_test.shape)\n",
        "\n",
        "print(X)"
      ]
    },
    {
      "cell_type": "code",
      "execution_count": null,
      "metadata": {
        "id": "89QZk-amnawW"
      },
      "outputs": [],
      "source": [
        "#scala cada característica individualmente restando el valor mínimo y luego dividiendo por el rango (es decir, la diferencia entre el máximo y el mínimo)\n",
        "from sklearn.preprocessing import MinMaxScaler\n",
        "\n",
        "# Convertir datos a tipo float\n",
        "X = X.astype(float)\n",
        "\n",
        "# Crear el objeto MinMaxScaler\n",
        "scaler = MinMaxScaler()\n",
        "\n",
        "# Ajustar el scaler a los datos y transformarlos\n",
        "X_normalized = scaler.fit_transform(X)\n",
        "\n",
        "print(X_normalized)"
      ]
    },
    {
      "cell_type": "code",
      "execution_count": null,
      "metadata": {
        "id": "_WxWnLL0nejI"
      },
      "outputs": [],
      "source": [
        "#normalizamos las características\n",
        "def  featureNormalize(X):\n",
        "    X_norm = X.copy()\n",
        "    mu = np.zeros(X.shape[1])\n",
        "    sigma = np.zeros(X.shape[1])\n",
        "\n",
        "    mu = np.mean(X, axis = 0)\n",
        "    sigma = np.std(X, axis = 0)\n",
        "    X_norm = (X - mu) / sigma\n",
        "\n",
        "    return X_norm, mu, sigma"
      ]
    },
    {
      "cell_type": "code",
      "execution_count": null,
      "metadata": {
        "id": "dzYMhfQQner-"
      },
      "outputs": [],
      "source": [
        "# llama featureNormalize con los datos cargados\n",
        "X_norm, mu, sigma = featureNormalize(X)\n",
        "\n",
        "print(X)\n",
        "print('Media calculada:', mu)\n",
        "print('Desviación estandar calculada:', sigma)\n",
        "print(X_norm)"
      ]
    },
    {
      "cell_type": "code",
      "execution_count": 5,
      "metadata": {
        "colab": {
          "base_uri": "https://localhost:8080/"
        },
        "id": "zF7Og9SzNXAF",
        "outputId": "5fb95ea7-64f8-404d-c0a0-4b7c3b54fb9d"
      },
      "outputs": [
        {
          "output_type": "stream",
          "name": "stdout",
          "text": [
            "(200,)\n",
            "(33,)\n",
            "(233,)\n"
          ]
        }
      ],
      "source": [
        "# Configurando parametros necesario\n",
        "input_layer_size  = 19  # Entrada de 19 caracteristicas\n",
        "hidden_layer_size = 10   # 10 unidades ocultas\n",
        "num_labels = 3          # 3 etiquetas, de 0 a 2\n",
        "\n",
        "# carga los pesos en las variables Theta1 y Theta2\n",
        "# weights = loadmat(os.path.join('/content/gdrive/MyDrive/Colab Notebooks/machine learning/data', 'ex4weights.mat'))\n",
        "# weights = np.array()\n",
        "pesos = {}\n",
        "pesos['Theta1'] = np.random.rand(10, 20)\n",
        "pesos['Theta2'] = np.random.rand(3, 11)\n",
        "# print(pesos['Theta1'][:].shape)\n",
        "# print(pesos['Theta2'][:].shape)\n",
        "\n",
        "# print(weights['Theta1'][:].shape)\n",
        "# print(weights['Theta2'][:].shape)\n",
        "\n",
        "# print(weights['Theta1'][0])\n",
        "# print(np.roll(weights['Theta1'][0], 1, axis=0))\n",
        "# Theta1 tiene un tamaño de 25x401\n",
        "# Theta2 tiene un tamañó de 10x26\n",
        "# Theta1, Theta2 = weights['Theta1'], weights['Theta2']\n",
        "Theta1, Theta2 = pesos['Theta1'], pesos['Theta2']\n",
        "# se intercambia la ultima columa con la primera de Theta2, por cuestiones de indices que utiliza MATLAB\n",
        "# print(Theta2)\n",
        "# print(np.roll(Theta2, 1, axis=0))\n",
        "\n",
        "# Theta2 = np.roll(Theta2, 1, axis=0)\n",
        "\n",
        "# Desenrollar parámetros\n",
        "print(Theta1.ravel().shape)\n",
        "print(Theta2.ravel().shape)\n",
        "\n",
        "nn_params = np.concatenate([Theta1.ravel(), Theta2.ravel()])\n",
        "print(nn_params.shape)"
      ]
    },
    {
      "cell_type": "code",
      "execution_count": 6,
      "metadata": {
        "id": "0iLJzdMfNXC7"
      },
      "outputs": [],
      "source": [
        "\n",
        "def sigmoid(z):\n",
        "    \"\"\"\n",
        "    Computes the sigmoid of z.\n",
        "    \"\"\"\n",
        "    return 1.0 / (1.0 + np.exp(-z))\n",
        "\n",
        "def sigmoidGradient(z):\n",
        "    \"\"\"\n",
        "    Computes the gradient of the sigmoid function for z.\n",
        "    \"\"\"\n",
        "    g = np.zeros(z.shape)\n",
        "    g = sigmoid(z) * (1 - sigmoid(z))\n",
        "    return g\n",
        "\n",
        "def normalize_features(X):\n",
        "    \"\"\"\n",
        "    Normalizes the features of input data X.\n",
        "    \"\"\"\n",
        "    X_norm = (X - np.mean(X, axis=0)) / np.std(X, axis=0)\n",
        "    return X_norm"
      ]
    },
    {
      "cell_type": "code",
      "execution_count": 8,
      "metadata": {
        "id": "3o_5oy5yNXFt"
      },
      "outputs": [],
      "source": [
        "X_norm = normalize_features(X)\n",
        "def nnCostFunction(nn_params,\n",
        "                   input_layer_size,\n",
        "                   hidden_layer_size,\n",
        "                   num_labels,\n",
        "                   X, y, lambda_=0.0):\n",
        "\n",
        "    # Reshape nn_params back into the parameters Theta1 and Theta2, the weight matrices\n",
        "    # for our 2 layer neural network\n",
        "    Theta1 = np.reshape(nn_params[:hidden_layer_size * (input_layer_size + 1)],\n",
        "                        (hidden_layer_size, (input_layer_size + 1)))\n",
        "\n",
        "    Theta2 = np.reshape(nn_params[(hidden_layer_size * (input_layer_size + 1)):],\n",
        "                        (num_labels, (hidden_layer_size + 1)))\n",
        "\n",
        "    m = y.size\n",
        "\n",
        "    J = 0\n",
        "    Theta1_grad = np.zeros(Theta1.shape)\n",
        "    Theta2_grad = np.zeros(Theta2.shape)\n",
        "\n",
        "    a1 = np.concatenate([np.ones((m, 1)), X], axis=1)\n",
        "\n",
        "    a2 = sigmoid(a1.dot(Theta1.T))\n",
        "    a2 = np.concatenate([np.ones((a2.shape[0], 1)), a2], axis=1)\n",
        "\n",
        "    a3 = sigmoid(a2.dot(Theta2.T))\n",
        "\n",
        "    # print(\"-\"*20)\n",
        "    # print(y.shape)\n",
        "    # print(y.reshape(-1))\n",
        "    # print(\"-\"*20)\n",
        "    y_matrix = y.reshape(-1)\n",
        "    # print(y.shape)\n",
        "    y_matrix = np.eye(num_labels)[y_matrix]\n",
        "    # print(y_matrix)\n",
        "\n",
        "    temp1 = Theta1\n",
        "    temp2 = Theta2\n",
        "\n",
        "    # Agregar el termino de regularización\n",
        "\n",
        "    reg_term = (lambda_ / (2 * m)) * (np.sum(np.square(temp1[:, 1:])) + np.sum(np.square(temp2[:, 1:])))\n",
        "\n",
        "    J = (-1 / m) * np.sum((np.log(a3) * y_matrix) + np.log(1 - a3) * (1 - y_matrix)) + reg_term\n",
        "\n",
        "    # Backpropogation\n",
        "\n",
        "    delta_3 = a3 - y_matrix\n",
        "    delta_2 = delta_3.dot(Theta2)[:, 1:] * sigmoidGradient(a1.dot(Theta1.T))\n",
        "\n",
        "    Delta1 = delta_2.T.dot(a1)\n",
        "    Delta2 = delta_3.T.dot(a2)\n",
        "\n",
        "    # Agregar regularización al gradiente\n",
        "\n",
        "    Theta1_grad = (1 / m) * Delta1\n",
        "    Theta1_grad[:, 1:] = Theta1_grad[:, 1:] + (lambda_ / m) * Theta1[:, 1:]\n",
        "\n",
        "    Theta2_grad = (1 / m) * Delta2\n",
        "    Theta2_grad[:, 1:] = Theta2_grad[:, 1:] + (lambda_ / m) * Theta2[:, 1:]\n",
        "\n",
        "    # ===================== Alterntate solutions =====================\n",
        "    # my_final_matrix = np.zeros(a3.shape)\n",
        "    # for c in np.arange(num_labels):\n",
        "    #    my_final_matrix[:, c] = (np.log(a3[:, c]) * (y == c)) + (np.log(1 - a3[:, c]) * (1 - (y == c)))\n",
        "    #J = (-1 / m) * np.sum(my_final_matrix)\n",
        "    # ================================================================\n",
        "\n",
        "    # ================================================================\n",
        "    # Unroll gradients\n",
        "    # grad = np.concatenate([Theta1_grad.ravel(order=order), Theta2_grad.ravel(order=order)])\n",
        "\n",
        "    grad = np.concatenate([Theta1_grad.ravel(), Theta2_grad.ravel()])\n",
        "\n",
        "    return J, grad"
      ]
    },
    {
      "cell_type": "code",
      "execution_count": 9,
      "metadata": {
        "colab": {
          "base_uri": "https://localhost:8080/"
        },
        "id": "MsalMr-sNXIb",
        "outputId": "4582bc3e-96d8-4dbf-a355-be1989283f5b"
      },
      "outputs": [
        {
          "output_type": "stream",
          "name": "stdout",
          "text": [
            "Costo en parametros (cargado de ex4weights): 10.799071 \n"
          ]
        }
      ],
      "source": [
        "lambda_ = 0\n",
        "J, _ = nnCostFunction(nn_params, input_layer_size, hidden_layer_size, num_labels, X, y, lambda_)\n",
        "print('Costo en parametros (cargado de ex4weights): %.6f ' % J)"
      ]
    },
    {
      "cell_type": "code",
      "execution_count": 10,
      "metadata": {
        "colab": {
          "base_uri": "https://localhost:8080/"
        },
        "id": "zcEyZS0ZP-3W",
        "outputId": "c98d7153-0ca6-4540-d416-11e99b6a0581"
      },
      "outputs": [
        {
          "output_type": "stream",
          "name": "stdout",
          "text": [
            "Gradiente sigmoide evaluada con [-1 -0.5 0 0.5 1]:\n",
            "  \n",
            "[0.19661193 0.23500371 0.25       0.23500371 0.19661193]\n"
          ]
        }
      ],
      "source": [
        "z = np.array([-1, -0.5, 0, 0.5, 1])\n",
        "g = sigmoidGradient(z)\n",
        "print('Gradiente sigmoide evaluada con [-1 -0.5 0 0.5 1]:\\n  ')\n",
        "print(g)"
      ]
    },
    {
      "cell_type": "code",
      "execution_count": 11,
      "metadata": {
        "id": "Prs9A7OHQEec"
      },
      "outputs": [],
      "source": [
        "def randInitializeWeights(L_in, L_out, epsilon_init=0.12):\n",
        "    \"\"\"\n",
        "    Randomly initialize the weights of a layer in a neural network.\n",
        "\n",
        "    Parameters\n",
        "    ----------\n",
        "    L_in : int\n",
        "        Number of incomming connections.\n",
        "\n",
        "    L_out : int\n",
        "        Number of outgoing connections.\n",
        "\n",
        "    epsilon_init : float, optional\n",
        "        Range of values which the weight can take from a uniform\n",
        "        distribution.\n",
        "\n",
        "    Returns\n",
        "    -------\n",
        "    W : array_like\n",
        "        The weight initialiatized to random values.  Note that W should\n",
        "        be set to a matrix of size(L_out, 1 + L_in) as\n",
        "        the first column of W handles the \"bias\" terms.\"\"\"\n",
        "\n",
        "\n",
        "    W = np.zeros((L_out, 1 + L_in))\n",
        "    W = np.random.rand(L_out, 1 + L_in) * 2 * epsilon_init - epsilon_init\n",
        "\n",
        "    return W"
      ]
    },
    {
      "cell_type": "code",
      "execution_count": 12,
      "metadata": {
        "colab": {
          "base_uri": "https://localhost:8080/"
        },
        "id": "Gr1G-gxDQG98",
        "outputId": "0c16ee9b-47a1-43da-b7cd-31d3c2fedeb9"
      },
      "outputs": [
        {
          "output_type": "stream",
          "name": "stdout",
          "text": [
            "Inicialización de parámetros de redes neuronales...\n"
          ]
        }
      ],
      "source": [
        "print('Inicialización de parámetros de redes neuronales...')\n",
        "\n",
        "initial_Theta1 = randInitializeWeights(input_layer_size, hidden_layer_size)\n",
        "initial_Theta2 = randInitializeWeights(hidden_layer_size, num_labels)\n",
        "\n",
        "# Desenrrollr parametros\n",
        "initial_nn_params = np.concatenate([initial_Theta1.ravel(), initial_Theta2.ravel()], axis=0)"
      ]
    },
    {
      "cell_type": "code",
      "execution_count": 13,
      "metadata": {
        "colab": {
          "base_uri": "https://localhost:8080/"
        },
        "id": "Kv2oor6iQLPu",
        "outputId": "ce3abf3c-e54c-41b3-a11a-4025ae7388e6"
      },
      "outputs": [
        {
          "output_type": "stream",
          "name": "stderr",
          "text": [
            "<ipython-input-6-e347f585c8bb>:5: RuntimeWarning: overflow encountered in exp\n",
            "  return 1.0 / (1.0 + np.exp(-z))\n"
          ]
        }
      ],
      "source": [
        "# Define lambda (parámetro de regularización)\n",
        "lambda_ = 1\n",
        "\n",
        "# Crea una función de costo abreviada para minimizar\n",
        "costFunction = lambda p: nnCostFunction(p, input_layer_size,\n",
        "                                        hidden_layer_size,\n",
        "                                        num_labels, X, y, lambda_)\n",
        "\n",
        "# Ejecuta la optimización\n",
        "res = optimize.minimize(costFunction,\n",
        "                        initial_nn_params,\n",
        "                        jac=True,\n",
        "                        method='TNC')\n",
        "\n",
        "# Obtiene la solución de la optimización\n",
        "nn_params = res.x\n",
        "\n",
        "# Obtiene Theta1 y Theta2 de nn_params\n",
        "Theta1 = np.reshape(nn_params[:hidden_layer_size * (input_layer_size + 1)],\n",
        "                    (hidden_layer_size, (input_layer_size + 1)))\n",
        "\n",
        "Theta2 = np.reshape(nn_params[(hidden_layer_size * (input_layer_size + 1)):],\n",
        "                    (num_labels, (hidden_layer_size + 1)))\n"
      ]
    },
    {
      "cell_type": "code",
      "execution_count": 14,
      "metadata": {
        "id": "WBoq-2cOQQfD"
      },
      "outputs": [],
      "source": [
        "def predict(Theta1, Theta2, X):\n",
        "    \"\"\"\n",
        "    Predict the label of an input given a trained neural network\n",
        "    Outputs the predicted label of X given the trained weights of a neural\n",
        "    network(Theta1, Theta2)\n",
        "    \"\"\"\n",
        "    # Useful values\n",
        "    m = X.shape[0]\n",
        "    num_labels = Theta2.shape[0]\n",
        "\n",
        "    # You need to return the following variables correctly\n",
        "    p = np.zeros(m)\n",
        "    h1 = sigmoid(np.dot(np.concatenate([np.ones((m, 1)), X], axis=1), Theta1.T))\n",
        "    h2 = sigmoid(np.dot(np.concatenate([np.ones((m, 1)), h1], axis=1), Theta2.T))\n",
        "    p = np.argmax(h2, axis=1)\n",
        "    return p"
      ]
    },
    {
      "cell_type": "code",
      "execution_count": 15,
      "metadata": {
        "colab": {
          "base_uri": "https://localhost:8080/"
        },
        "id": "WF83rvkHQTWz",
        "outputId": "7d1cd883-c088-4b6a-c9d4-635dbd08f4b9"
      },
      "outputs": [
        {
          "output_type": "stream",
          "name": "stdout",
          "text": [
            "[0 0 0 0 0 0 0 0 0 0 0 0 0 0 0 0 1 1 1 1 1 1 1 1 1 1 1 1 1 1 1 1 1 1 1 1 1\n",
            " 0 0 1 1 1 1 1 1 1 1 1 0 0 0 0 0 0 0 0 2 2 2 2 2 2 2 2 0 0 0 0 0 0 0 0 2 2\n",
            " 2 2 2 2 2 2 1 1 1 1 1 1 1 1 2 2 2 2 2 2 2 2 1 1 1 1]\n",
            "Training Set Accuracy: 80.00%\n"
          ]
        },
        {
          "output_type": "stream",
          "name": "stderr",
          "text": [
            "<ipython-input-6-e347f585c8bb>:5: RuntimeWarning: overflow encountered in exp\n",
            "  return 1.0 / (1.0 + np.exp(-z))\n"
          ]
        }
      ],
      "source": [
        "pred = predict(Theta1, Theta2, X_test[:100])\n",
        "accuracy = np.mean(pred == y_test[:100]) * 100\n",
        "print(pred)\n",
        "print('Training Set Accuracy: %.2f%%' % accuracy)"
      ]
    },
    {
      "cell_type": "code",
      "execution_count": 16,
      "metadata": {
        "colab": {
          "base_uri": "https://localhost:8080/"
        },
        "id": "ibyrLkQFQZmL",
        "outputId": "3d087993-7747-473e-e211-820917039ceb"
      },
      "outputs": [
        {
          "output_type": "stream",
          "name": "stdout",
          "text": [
            "[2 2 2 2 2 2 2 2 2 2 2 2 2 2 2 2 1 2 1 2 2 2 2 1 1 1 2 2 1 2 2 2 1 1 1 1 1\n",
            " 1 1 1 2 2 2 2 2 2 2 2 2 2 2 2 2 2 2 2 0 1 1 1 1 1 1 0 2 2 2 2 2 2 2 2 2 1\n",
            " 2 2 2 2 2 2 1 1 1 1 1 1 1 1 1 1 1 1 1 1 1 1 1 1 1 1]\n",
            "Training Set Accuracy: 76.00%\n"
          ]
        },
        {
          "output_type": "stream",
          "name": "stderr",
          "text": [
            "<ipython-input-6-e347f585c8bb>:5: RuntimeWarning: overflow encountered in exp\n",
            "  return 1.0 / (1.0 + np.exp(-z))\n"
          ]
        }
      ],
      "source": [
        "pred = predict(Theta1, Theta2, X[:100])\n",
        "accuracy = np.mean(pred == y[:100]) * 100\n",
        "print(pred)\n",
        "print('Training Set Accuracy: %.2f%%' % accuracy)"
      ]
    }
  ],
  "metadata": {
    "colab": {
      "provenance": []
    },
    "kernelspec": {
      "display_name": "Python 3",
      "name": "python3"
    },
    "language_info": {
      "name": "python"
    }
  },
  "nbformat": 4,
  "nbformat_minor": 0
}