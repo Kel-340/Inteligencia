{
  "cells": [
    {
      "cell_type": "markdown",
      "metadata": {
        "id": "jCmRGf931xOB"
      },
      "source": [
        "## **Examen final - Nava Siñani Kelvin Jherman ** **texto en negrita**\n",
        "# GITHUB https://github.com/Kel-340/InteligenciaArtificial"
      ]
    },
    {
      "cell_type": "code",
      "execution_count": null,
      "metadata": {
        "colab": {
          "base_uri": "https://localhost:8080/"
        },
        "id": "uoUt2GP03MTE",
        "outputId": "5d7d8991-0fbe-4372-8272-00a17ebb2068"
      },
      "outputs": [
        {
          "name": "stdout",
          "output_type": "stream",
          "text": [
            "Mounted at /content/drive\n"
          ]
        }
      ],
      "source": [
        "from google.colab import drive\n",
        "drive.mount('/content/drive')"
      ]
    },
    {
      "cell_type": "code",
      "execution_count": 8,
      "metadata": {
        "id": "JaxfsWjY37Ln"
      },
      "outputs": [],
      "source": [
        "import pandas as pd\n",
        "import numpy as np\n",
        "from scipy import optimize\n",
        "from sklearn.preprocessing import StandardScaler\n",
        "from sklearn.model_selection import train_test_split\n",
        "from sklearn.metrics import accuracy_score\n",
        "from sklearn.cluster import KMeans\n",
        "from sklearn.metrics import adjusted_rand_score\n",
        "from sklearn.decomposition import PCA\n",
        "import matplotlib.pyplot as plt\n",
        "import random"
      ]
    },
    {
      "cell_type": "code",
      "execution_count": 5,
      "metadata": {
        "colab": {
          "base_uri": "https://localhost:8080/"
        },
        "id": "Xdx-KWp137wF",
        "outputId": "76a21dc6-778e-4798-de22-3e1c4e887bf1"
      },
      "outputs": [
        {
          "output_type": "stream",
          "name": "stdout",
          "text": [
            "Columnas del DataFrame original:\n",
            "Index(['0', '1', '2', '3', '4', '5', '6', '7', '8', '9',\n",
            "       ...\n",
            "       '3062', '3063', '3064', '3065', '3066', '3067', '3068', '3069', '3070',\n",
            "       '3071'],\n",
            "      dtype='object', length=3072)\n",
            "\n",
            "Número de valores nulos antes de reemplazar:\n",
            "1996\n",
            "\n",
            "Primeras filas del DataFrame X_train después de reemplazar NaN por 0:\n",
            "     0    1    2    3    4    5    6    7    8    9  ...   3062   3063   3064  \\\n",
            "0  255  255  255  255  255  255  255  255  255  255  ...  255.0  255.0  255.0   \n",
            "1  255  255  255  255  255  255  255  255  255  255  ...  255.0  255.0  255.0   \n",
            "2  161  162   94  161  162   94  161  162   94  161  ...  255.0  255.0  255.0   \n",
            "3  255  255  255  255  255  255  255  255  255  255  ...  255.0  255.0  255.0   \n",
            "4  255  255  255  255  255  255  255  255  255  255  ...  255.0  255.0  255.0   \n",
            "\n",
            "    3065   3066   3067   3068   3069   3070   3071  \n",
            "0  255.0  255.0  255.0  255.0  255.0  255.0  255.0  \n",
            "1  255.0  255.0  255.0  255.0  255.0  255.0  255.0  \n",
            "2  255.0  255.0  255.0  255.0  255.0  255.0  255.0  \n",
            "3  255.0  255.0  255.0  255.0  255.0  255.0  255.0  \n",
            "4  255.0  255.0  255.0  255.0  255.0  255.0  255.0  \n",
            "\n",
            "[5 rows x 3072 columns]\n",
            "\n",
            "Número de valores nulos después de reemplazar:\n",
            "0\n"
          ]
        }
      ],
      "source": [
        "import pandas as pd\n",
        "\n",
        "# Cargar el DataFrame desde el archivo CSV\n",
        "df_train = pd.read_csv('/content/dataset_15.csv')\n",
        "\n",
        "# Verificar las columnas del DataFrame original\n",
        "print(\"Columnas del DataFrame original:\")\n",
        "print(df_train.columns)\n",
        "\n",
        "# Seleccionar los primeros 10000 datos del DataFrame\n",
        "X_train = df_train.head(10000)\n",
        "\n",
        "# Verificar si hay valores nulos en el DataFrame\n",
        "print(\"\\nNúmero de valores nulos antes de reemplazar:\")\n",
        "print(X_train.isnull().sum().sum())\n",
        "\n",
        "# Reemplazar los valores nulos por 0\n",
        "X_train = X_train.fillna(0)\n",
        "\n",
        "# Verificar el DataFrame resultante\n",
        "print(\"\\nPrimeras filas del DataFrame X_train después de reemplazar NaN por 0:\")\n",
        "print(X_train.head())\n",
        "\n",
        "# Verificar si todavía hay valores nulos en el DataFrame\n",
        "print(\"\\nNúmero de valores nulos después de reemplazar:\")\n",
        "print(X_train.isnull().sum().sum())\n"
      ]
    },
    {
      "cell_type": "code",
      "execution_count": 6,
      "metadata": {
        "colab": {
          "base_uri": "https://localhost:8080/"
        },
        "id": "jbu4gynm37yk",
        "outputId": "7fa6e01d-b2e2-4f65-d0c9-ad946e0e26d4"
      },
      "outputs": [
        {
          "output_type": "stream",
          "name": "stdout",
          "text": [
            "          0         1         2         3         4         5         6  \\\n",
            "0  1.000000  1.000000  1.000000  1.000000  1.000000  1.000000  1.000000   \n",
            "1  1.000000  1.000000  1.000000  1.000000  1.000000  1.000000  1.000000   \n",
            "2  0.631373  0.635294  0.368627  0.631373  0.635294  0.368627  0.631373   \n",
            "3  1.000000  1.000000  1.000000  1.000000  1.000000  1.000000  1.000000   \n",
            "4  1.000000  1.000000  1.000000  1.000000  1.000000  1.000000  1.000000   \n",
            "\n",
            "          7         8         9  ...  3062  3063  3064  3065  3066  3067  \\\n",
            "0  1.000000  1.000000  1.000000  ...   1.0   1.0   1.0   1.0   1.0   1.0   \n",
            "1  1.000000  1.000000  1.000000  ...   1.0   1.0   1.0   1.0   1.0   1.0   \n",
            "2  0.635294  0.368627  0.631373  ...   1.0   1.0   1.0   1.0   1.0   1.0   \n",
            "3  1.000000  1.000000  1.000000  ...   1.0   1.0   1.0   1.0   1.0   1.0   \n",
            "4  1.000000  1.000000  1.000000  ...   1.0   1.0   1.0   1.0   1.0   1.0   \n",
            "\n",
            "   3068  3069  3070  3071  \n",
            "0   1.0   1.0   1.0   1.0  \n",
            "1   1.0   1.0   1.0   1.0  \n",
            "2   1.0   1.0   1.0   1.0  \n",
            "3   1.0   1.0   1.0   1.0  \n",
            "4   1.0   1.0   1.0   1.0  \n",
            "\n",
            "[5 rows x 3072 columns]\n"
          ]
        }
      ],
      "source": [
        "# Normalización de las imágenes, asumiendo que todas las columnas contienen datos de píxeles\n",
        "X_train = X_train / 255.0\n",
        "\n",
        "# Verificar la normalización\n",
        "print(X_train.head())\n",
        "X=X_train"
      ]
    },
    {
      "cell_type": "code",
      "execution_count": 9,
      "metadata": {
        "colab": {
          "base_uri": "https://localhost:8080/"
        },
        "id": "qXQuby7T8qMQ",
        "outputId": "f9b89297-080a-4b21-f4ae-1259e88ff5e8"
      },
      "outputs": [
        {
          "output_type": "stream",
          "name": "stdout",
          "text": [
            "(8921, 3072)\n",
            "(8921, 3072)\n"
          ]
        }
      ],
      "source": [
        "# Number of clusters for K-Means\n",
        "k = 50\n",
        "# Normalizar las características\n",
        "scaler = StandardScaler()\n",
        "X_scaled = scaler.fit_transform(X)\n",
        "X_train_n=X_scaled\n",
        "# Verificar las dimensiones de los datos\n",
        "print(X.shape)\n",
        "print(X_scaled.shape)"
      ]
    },
    {
      "cell_type": "code",
      "execution_count": 10,
      "metadata": {
        "colab": {
          "base_uri": "https://localhost:8080/",
          "height": 129
        },
        "id": "t8OoSmLn9NEg",
        "outputId": "e9783ded-3b81-4219-c172-c4ec277e0a6a"
      },
      "outputs": [
        {
          "output_type": "stream",
          "name": "stderr",
          "text": [
            "/usr/local/lib/python3.10/dist-packages/sklearn/cluster/_kmeans.py:870: FutureWarning: The default value of `n_init` will change from 10 to 'auto' in 1.4. Set the value of `n_init` explicitly to suppress the warning\n",
            "  warnings.warn(\n"
          ]
        },
        {
          "output_type": "execute_result",
          "data": {
            "text/plain": [
              "KMeans(n_clusters=50, random_state=42)"
            ],
            "text/html": [
              "<style>#sk-container-id-1 {color: black;background-color: white;}#sk-container-id-1 pre{padding: 0;}#sk-container-id-1 div.sk-toggleable {background-color: white;}#sk-container-id-1 label.sk-toggleable__label {cursor: pointer;display: block;width: 100%;margin-bottom: 0;padding: 0.3em;box-sizing: border-box;text-align: center;}#sk-container-id-1 label.sk-toggleable__label-arrow:before {content: \"▸\";float: left;margin-right: 0.25em;color: #696969;}#sk-container-id-1 label.sk-toggleable__label-arrow:hover:before {color: black;}#sk-container-id-1 div.sk-estimator:hover label.sk-toggleable__label-arrow:before {color: black;}#sk-container-id-1 div.sk-toggleable__content {max-height: 0;max-width: 0;overflow: hidden;text-align: left;background-color: #f0f8ff;}#sk-container-id-1 div.sk-toggleable__content pre {margin: 0.2em;color: black;border-radius: 0.25em;background-color: #f0f8ff;}#sk-container-id-1 input.sk-toggleable__control:checked~div.sk-toggleable__content {max-height: 200px;max-width: 100%;overflow: auto;}#sk-container-id-1 input.sk-toggleable__control:checked~label.sk-toggleable__label-arrow:before {content: \"▾\";}#sk-container-id-1 div.sk-estimator input.sk-toggleable__control:checked~label.sk-toggleable__label {background-color: #d4ebff;}#sk-container-id-1 div.sk-label input.sk-toggleable__control:checked~label.sk-toggleable__label {background-color: #d4ebff;}#sk-container-id-1 input.sk-hidden--visually {border: 0;clip: rect(1px 1px 1px 1px);clip: rect(1px, 1px, 1px, 1px);height: 1px;margin: -1px;overflow: hidden;padding: 0;position: absolute;width: 1px;}#sk-container-id-1 div.sk-estimator {font-family: monospace;background-color: #f0f8ff;border: 1px dotted black;border-radius: 0.25em;box-sizing: border-box;margin-bottom: 0.5em;}#sk-container-id-1 div.sk-estimator:hover {background-color: #d4ebff;}#sk-container-id-1 div.sk-parallel-item::after {content: \"\";width: 100%;border-bottom: 1px solid gray;flex-grow: 1;}#sk-container-id-1 div.sk-label:hover label.sk-toggleable__label {background-color: #d4ebff;}#sk-container-id-1 div.sk-serial::before {content: \"\";position: absolute;border-left: 1px solid gray;box-sizing: border-box;top: 0;bottom: 0;left: 50%;z-index: 0;}#sk-container-id-1 div.sk-serial {display: flex;flex-direction: column;align-items: center;background-color: white;padding-right: 0.2em;padding-left: 0.2em;position: relative;}#sk-container-id-1 div.sk-item {position: relative;z-index: 1;}#sk-container-id-1 div.sk-parallel {display: flex;align-items: stretch;justify-content: center;background-color: white;position: relative;}#sk-container-id-1 div.sk-item::before, #sk-container-id-1 div.sk-parallel-item::before {content: \"\";position: absolute;border-left: 1px solid gray;box-sizing: border-box;top: 0;bottom: 0;left: 50%;z-index: -1;}#sk-container-id-1 div.sk-parallel-item {display: flex;flex-direction: column;z-index: 1;position: relative;background-color: white;}#sk-container-id-1 div.sk-parallel-item:first-child::after {align-self: flex-end;width: 50%;}#sk-container-id-1 div.sk-parallel-item:last-child::after {align-self: flex-start;width: 50%;}#sk-container-id-1 div.sk-parallel-item:only-child::after {width: 0;}#sk-container-id-1 div.sk-dashed-wrapped {border: 1px dashed gray;margin: 0 0.4em 0.5em 0.4em;box-sizing: border-box;padding-bottom: 0.4em;background-color: white;}#sk-container-id-1 div.sk-label label {font-family: monospace;font-weight: bold;display: inline-block;line-height: 1.2em;}#sk-container-id-1 div.sk-label-container {text-align: center;}#sk-container-id-1 div.sk-container {/* jupyter's `normalize.less` sets `[hidden] { display: none; }` but bootstrap.min.css set `[hidden] { display: none !important; }` so we also need the `!important` here to be able to override the default hidden behavior on the sphinx rendered scikit-learn.org. See: https://github.com/scikit-learn/scikit-learn/issues/21755 */display: inline-block !important;position: relative;}#sk-container-id-1 div.sk-text-repr-fallback {display: none;}</style><div id=\"sk-container-id-1\" class=\"sk-top-container\"><div class=\"sk-text-repr-fallback\"><pre>KMeans(n_clusters=50, random_state=42)</pre><b>In a Jupyter environment, please rerun this cell to show the HTML representation or trust the notebook. <br />On GitHub, the HTML representation is unable to render, please try loading this page with nbviewer.org.</b></div><div class=\"sk-container\" hidden><div class=\"sk-item\"><div class=\"sk-estimator sk-toggleable\"><input class=\"sk-toggleable__control sk-hidden--visually\" id=\"sk-estimator-id-1\" type=\"checkbox\" checked><label for=\"sk-estimator-id-1\" class=\"sk-toggleable__label sk-toggleable__label-arrow\">KMeans</label><div class=\"sk-toggleable__content\"><pre>KMeans(n_clusters=50, random_state=42)</pre></div></div></div></div></div>"
            ]
          },
          "metadata": {},
          "execution_count": 10
        }
      ],
      "source": [
        "kmeans = KMeans(n_clusters=k, random_state=42)\n",
        "kmeans.fit(X_scaled)"
      ]
    },
    {
      "cell_type": "code",
      "execution_count": null,
      "metadata": {
        "colab": {
          "base_uri": "https://localhost:8080/"
        },
        "id": "S4Lup6qE9Qqe",
        "outputId": "bc20d976-8399-4ee4-dae0-05bbe98388cf"
      },
      "outputs": [
        {
          "output_type": "stream",
          "name": "stderr",
          "text": [
            "/usr/local/lib/python3.10/dist-packages/sklearn/cluster/_kmeans.py:870: FutureWarning: The default value of `n_init` will change from 10 to 'auto' in 1.4. Set the value of `n_init` explicitly to suppress the warning\n",
            "  warnings.warn(\n"
          ]
        }
      ],
      "source": [
        "from sklearn.cluster import KMeans\n",
        "from sklearn.metrics import silhouette_score\n",
        "# Ajustar K-means\n",
        "kmeans = KMeans(n_clusters=k, random_state=42)\n",
        "kmeans.fit(X)\n",
        "\n",
        "# Obtener las etiquetas de los clusters\n",
        "labels = kmeans.labels_\n",
        "\n",
        "# Calcular la puntuación de silueta\n",
        "silhouette_avg = silhouette_score(X, labels)\n",
        "print(f\"Silhouette Score: {silhouette_avg}\")"
      ]
    },
    {
      "cell_type": "code",
      "execution_count": 63,
      "metadata": {
        "colab": {
          "base_uri": "https://localhost:8080/",
          "height": 718
        },
        "id": "-kl-fQ6v9RKZ",
        "outputId": "31c69bb9-faba-4cdb-a78a-1d3250145fc6"
      },
      "outputs": [
        {
          "output_type": "stream",
          "name": "stderr",
          "text": [
            "/usr/local/lib/python3.10/dist-packages/sklearn/cluster/_kmeans.py:870: FutureWarning: The default value of `n_init` will change from 10 to 'auto' in 1.4. Set the value of `n_init` explicitly to suppress the warning\n",
            "  warnings.warn(\n",
            "/usr/local/lib/python3.10/dist-packages/sklearn/cluster/_kmeans.py:870: FutureWarning: The default value of `n_init` will change from 10 to 'auto' in 1.4. Set the value of `n_init` explicitly to suppress the warning\n",
            "  warnings.warn(\n",
            "/usr/local/lib/python3.10/dist-packages/sklearn/cluster/_kmeans.py:870: FutureWarning: The default value of `n_init` will change from 10 to 'auto' in 1.4. Set the value of `n_init` explicitly to suppress the warning\n",
            "  warnings.warn(\n",
            "/usr/local/lib/python3.10/dist-packages/sklearn/cluster/_kmeans.py:870: FutureWarning: The default value of `n_init` will change from 10 to 'auto' in 1.4. Set the value of `n_init` explicitly to suppress the warning\n",
            "  warnings.warn(\n",
            "/usr/local/lib/python3.10/dist-packages/sklearn/cluster/_kmeans.py:870: FutureWarning: The default value of `n_init` will change from 10 to 'auto' in 1.4. Set the value of `n_init` explicitly to suppress the warning\n",
            "  warnings.warn(\n",
            "/usr/local/lib/python3.10/dist-packages/sklearn/cluster/_kmeans.py:870: FutureWarning: The default value of `n_init` will change from 10 to 'auto' in 1.4. Set the value of `n_init` explicitly to suppress the warning\n",
            "  warnings.warn(\n",
            "/usr/local/lib/python3.10/dist-packages/sklearn/cluster/_kmeans.py:870: FutureWarning: The default value of `n_init` will change from 10 to 'auto' in 1.4. Set the value of `n_init` explicitly to suppress the warning\n",
            "  warnings.warn(\n",
            "/usr/local/lib/python3.10/dist-packages/sklearn/cluster/_kmeans.py:870: FutureWarning: The default value of `n_init` will change from 10 to 'auto' in 1.4. Set the value of `n_init` explicitly to suppress the warning\n",
            "  warnings.warn(\n",
            "/usr/local/lib/python3.10/dist-packages/sklearn/cluster/_kmeans.py:870: FutureWarning: The default value of `n_init` will change from 10 to 'auto' in 1.4. Set the value of `n_init` explicitly to suppress the warning\n",
            "  warnings.warn(\n",
            "/usr/local/lib/python3.10/dist-packages/sklearn/cluster/_kmeans.py:870: FutureWarning: The default value of `n_init` will change from 10 to 'auto' in 1.4. Set the value of `n_init` explicitly to suppress the warning\n",
            "  warnings.warn(\n",
            "/usr/local/lib/python3.10/dist-packages/sklearn/cluster/_kmeans.py:870: FutureWarning: The default value of `n_init` will change from 10 to 'auto' in 1.4. Set the value of `n_init` explicitly to suppress the warning\n",
            "  warnings.warn(\n"
          ]
        },
        {
          "output_type": "display_data",
          "data": {
            "text/plain": [
              "<Figure size 1200x300 with 1 Axes>"
            ],
            "image/png": "[encoded data removed]"
          },
          "metadata": {}
        }
      ],
      "source": [
        "kmeans_per_k = [KMeans(n_clusters=k, random_state=42).fit(X)\n",
        "                for k in range(1, 12)]\n",
        "\n",
        "silhouette_scores = [silhouette_score(X, model.labels_)\n",
        "                     for model in kmeans_per_k[1:]]\n",
        "\n",
        "plt.figure(figsize=(12, 3))\n",
        "plt.plot(range(2, 12), silhouette_scores, \"bo-\")\n",
        "plt.xlabel(\"$k$\", fontsize=14)\n",
        "plt.ylabel(\"Silhouette score\", fontsize=14)\n",
        "#plt.axis([1.8, 8.5, 0.55, 0.7])\n",
        "plt.show()"
      ]
    },
    {
      "cell_type": "code",
      "execution_count": 2,
      "metadata": {
        "id": "86oOwwsXRbZl"
      },
      "outputs": [],
      "source": [
        "from sklearn.metrics import silhouette_samples\n",
        "from matplotlib.ticker import FixedLocator, FixedFormatter\n",
        "import matplotlib as mpl"
      ]
    },
    {
      "cell_type": "code",
      "execution_count": 4,
      "metadata": {
        "id": "J9cH4G_2Rblz",
        "colab": {
          "base_uri": "https://localhost:8080/",
          "height": 561
        },
        "outputId": "2e010814-c7c1-4e77-84af-0c7a14804735"
      },
      "outputs": [
        {
          "output_type": "error",
          "ename": "NameError",
          "evalue": "name 'kmeans_per_k' is not defined",
          "traceback": [
            "\u001b[0;31m---------------------------------------------------------------------------\u001b[0m",
            "\u001b[0;31mNameError\u001b[0m                                 Traceback (most recent call last)",
            "\u001b[0;32m<ipython-input-4-337f75d49961>\u001b[0m in \u001b[0;36m<cell line: 11>\u001b[0;34m()\u001b[0m\n\u001b[1;32m     12\u001b[0m     \u001b[0mplt\u001b[0m\u001b[0;34m.\u001b[0m\u001b[0msubplot\u001b[0m\u001b[0;34m(\u001b[0m\u001b[0mn_rows\u001b[0m\u001b[0;34m,\u001b[0m \u001b[0mn_cols\u001b[0m\u001b[0;34m,\u001b[0m \u001b[0mk\u001b[0m \u001b[0;34m-\u001b[0m \u001b[0;36m1\u001b[0m\u001b[0;34m)\u001b[0m\u001b[0;34m\u001b[0m\u001b[0;34m\u001b[0m\u001b[0m\n\u001b[1;32m     13\u001b[0m \u001b[0;34m\u001b[0m\u001b[0m\n\u001b[0;32m---> 14\u001b[0;31m     \u001b[0my_pred\u001b[0m \u001b[0;34m=\u001b[0m \u001b[0mkmeans_per_k\u001b[0m\u001b[0;34m[\u001b[0m\u001b[0mk\u001b[0m \u001b[0;34m-\u001b[0m \u001b[0;36m1\u001b[0m\u001b[0;34m]\u001b[0m\u001b[0;34m.\u001b[0m\u001b[0mlabels_\u001b[0m\u001b[0;34m\u001b[0m\u001b[0;34m\u001b[0m\u001b[0m\n\u001b[0m\u001b[1;32m     15\u001b[0m     \u001b[0msilhouette_coefficients\u001b[0m \u001b[0;34m=\u001b[0m \u001b[0msilhouette_samples\u001b[0m\u001b[0;34m(\u001b[0m\u001b[0mX\u001b[0m\u001b[0;34m,\u001b[0m \u001b[0my_pred\u001b[0m\u001b[0;34m)\u001b[0m\u001b[0;34m\u001b[0m\u001b[0;34m\u001b[0m\u001b[0m\n\u001b[1;32m     16\u001b[0m \u001b[0;34m\u001b[0m\u001b[0m\n",
            "\u001b[0;31mNameError\u001b[0m: name 'kmeans_per_k' is not defined"
          ]
        },
        {
          "output_type": "display_data",
          "data": {
            "text/plain": [
              "<Figure size 1800x1800 with 1 Axes>"
            ],
            "image/png": "[encoded data removed]"
          },
          "metadata": {}
        }
      ],
      "source": [
        "import matplotlib.pyplot as plt\n",
        "\n",
        "\n",
        "\n",
        "plt.figure(figsize=(18, 18))\n",
        "\n",
        "# Ajustar el número de filas y columnas para que se ajusten todos los subgráficos\n",
        "n_rows = 4\n",
        "n_cols = 3\n",
        "\n",
        "for k in range(2, 12):\n",
        "    plt.subplot(n_rows, n_cols, k - 1)\n",
        "\n",
        "    y_pred = kmeans_per_k[k - 1].labels_\n",
        "    silhouette_coefficients = silhouette_samples(X, y_pred)\n",
        "\n",
        "    padding = len(X) // 50\n",
        "    pos = padding\n",
        "    ticks = []\n",
        "    for i in range(k):\n",
        "        coeffs = silhouette_coefficients[y_pred == i]\n",
        "        coeffs.sort()\n",
        "\n",
        "        color = mpl.cm.Spectral(i / k)\n",
        "        plt.fill_betweenx(np.arange(pos, pos + len(coeffs)), -1, coeffs,\n",
        "                          facecolor=color, edgecolor=color, alpha=0.7)\n",
        "        ticks.append(pos + len(coeffs) // 2)\n",
        "        pos += len(coeffs) + padding\n",
        "\n",
        "    plt.gca().yaxis.set_major_locator(FixedLocator(ticks))\n",
        "    plt.gca().yaxis.set_major_formatter(FixedFormatter(range(k)))\n",
        "    if k % n_cols == 1:\n",
        "        plt.ylabel(\"Cluster\")\n",
        "\n",
        "    if k > 8:\n",
        "        plt.xlabel(\"Silhouette Coefficient\")\n",
        "    else:\n",
        "        plt.tick_params(labelbottom=False)\n",
        "\n",
        "    plt.axvline(x=silhouette_scores[k - 2], color=\"red\", linestyle=\"--\")\n",
        "    plt.title(\"$k={}$\".format(k), fontsize=16)\n",
        "\n",
        "plt.tight_layout()\n",
        "plt.show()"
      ]
    },
    {
      "cell_type": "code",
      "execution_count": 61,
      "metadata": {
        "colab": {
          "base_uri": "https://localhost:8080/",
          "height": 614
        },
        "id": "0FlKa1ylRbp8",
        "outputId": "cfe2b9e4-fa62-495d-f787-a9bc5c39f152"
      },
      "outputs": [
        {
          "output_type": "display_data",
          "data": {
            "text/plain": [
              "<Figure size 2000x1000 with 50 Axes>"
            ],
            "image/png": "[encoded data removed]"
          },
          "metadata": {}
        }
      ],
      "source": [
        "import pandas as pd\n",
        "import numpy as np\n",
        "import matplotlib.pyplot as plt\n",
        "\n",
        "# Suponiendo que ya tienes cargado tu DataFrame df_train con los datos\n",
        "\n",
        "# Seleccionar 50 índices aleatorios del DataFrame\n",
        "indices_aleatorios = np.random.choice(df_train.index, size=50, replace=False)\n",
        "\n",
        "# Crear una figura para mostrar las imágenes\n",
        "fig, axes = plt.subplots(5, 10, figsize=(20, 10))  # Crear una cuadrícula de 5x10 para las 50 imágenes\n",
        "\n",
        "# Ajustar los espacios entre los subplots\n",
        "plt.subplots_adjust(wspace=0.4, hspace=0.4)\n",
        "\n",
        "# Iterar sobre los índices aleatorios y las posiciones en la cuadrícula\n",
        "for idx, ax in zip(indices_aleatorios, axes.ravel()):\n",
        "    # Obtener el dato del DataFrame y convertirlo a una matriz 3D\n",
        "    imagen = np.array(df_train.iloc[idx]).reshape(32, 32, 3) / 255.0  # Normalizar dividiendo por 255.0\n",
        "\n",
        "    # Mostrar la imagen en el subplot correspondiente con borde negro\n",
        "    ax.imshow(imagen)\n",
        "    ax.set_axis_off()  # Ocultar los ejes\n",
        "    ax.set_xticks([])  # Ocultar los ticks del eje x\n",
        "    ax.set_yticks([])  # Ocultar los ticks del eje y\n",
        "    for spine in ax.spines.values():  # Añadir borde negro\n",
        "        spine.set_edgecolor('black')\n",
        "        spine.set_linewidth(2)\n",
        "\n",
        "    # Ajustar márgenes para separar cada imagen dentro de su celda\n",
        "    ax.margins(x=0.2, y=0.2)\n",
        "\n",
        "# Título general para toda la figura\n",
        "plt.suptitle('50 Imágenes aleatorias del dataset', fontsize=20)\n",
        "\n",
        "# Mostrar la figura\n",
        "plt.show()\n"
      ]
    }
  ],
  "metadata": {
    "colab": {
      "provenance": []
    },
    "kernelspec": {
      "display_name": "Python 3",
      "name": "python3"
    },
    "language_info": {
      "name": "python"
    }
  },
  "nbformat": 4,
  "nbformat_minor": 0
}