{
  "nbformat": 4,
  "nbformat_minor": 0,
  "metadata": {
    "colab": {
      "provenance": []
    },
    "kernelspec": {
      "name": "python3",
      "display_name": "Python 3"
    },
    "language_info": {
      "name": "python"
    }
  },
  "cells": [
    {
      "cell_type": "markdown",
      "source": [
        "# **PRIMER PARCIAL - DATASET 117 - HOUSE SALES ON KING COUNTRY, USA**\n",
        "NAVA SIÑANI KELVIN JHERMAN"
      ],
      "metadata": {
        "id": "w2KNKgwFKYgX"
      }
    },
    {
      "cell_type": "markdown",
      "source": [
        "Regresion Multiple"
      ],
      "metadata": {
        "id": "Jfe6eFqttJcg"
      }
    },
    {
      "cell_type": "code",
      "source": [
        "# utilizado para manejos de directorios y rutas\n",
        "import os\n",
        "\n",
        "import pandas as pd\n",
        "# Librerias para graficación (trazado de gráficos)\n",
        "import matplotlib.pyplot as plt\n",
        "\n",
        "# Computacion vectorial y cientifica para python\n",
        "import numpy as np\n",
        "\n",
        "\n",
        "# llama a matplotlib a embeber graficas dentro de los cuadernillos\n",
        "%matplotlib inline"
      ],
      "metadata": {
        "id": "oBcTeadFK03K"
      },
      "execution_count": 1,
      "outputs": []
    },
    {
      "cell_type": "code",
      "source": [
        "from google.colab import drive\n",
        "drive.mount(\"/content/gdrive\")"
      ],
      "metadata": {
        "colab": {
          "base_uri": "https://localhost:8080/"
        },
        "id": "9L-b73ebK-To",
        "outputId": "d9373bf1-6d49-4964-9f12-7616ac3ac241"
      },
      "execution_count": 4,
      "outputs": [
        {
          "output_type": "stream",
          "name": "stdout",
          "text": [
            "Mounted at /content/gdrive\n",
            "Drive already mounted at /content/gdrive; to attempt to forcibly remount, call drive.mount(\"/content/gdrive\", force_remount=True).\n"
          ]
        }
      ]
    },
    {
      "cell_type": "code",
      "source": [
        "# Cargar los datos del archivo CSV en un DataFrame\n",
        "data = pd.read_csv('/content/gdrive/MyDrive/kc_house_data.csv')\n",
        "\n",
        "\n",
        "\n",
        "# Convertir los datos de la columna 'floors' a enteros\n",
        "data['floors'] = data['floors'].astype(int)\n",
        "\n",
        "# Extraer las columnas no necesarias y definir la columna de \"y\"\n",
        "X_test = data.iloc[0:17300, [3, 4, 5, 6, 7, 8, 9, 10, 11, 12, 13, 14, 15, 19, 20]]  # Excluyendo las columnas 0, 1 y 2 (x_test el 80% de los ejemplos del dataset)\n",
        "y_test = data.iloc[0:17300:, 2]  # La columna 3 (segunda columna), que es tu variable objetivo (y) (y_test el 80% de los ejemplos del dataset)\n",
        "\n",
        "\n",
        "# Extraer las columnas no necesarias y definir la columna de \"y\" para train\n",
        "X_train = data.iloc[17300:, [3, 4, 5, 6, 7, 8, 9, 10, 11, 12, 13, 14, 15, 19, 20]]  # Excluyendo las columnas 0, 1 y 2 (x_train el 80% de los ejemplos del dataset)\n",
        "y_train = data.iloc[17300:, 2]  # La columna 3 (segunda columna), que es tu variable objetivo (y) (y_train el 80% de los ejemplos del dataset)\n",
        "\n",
        "\n",
        "\n",
        "X=X_test\n",
        "y=y_test\n",
        "# Calcular el número de ejemplos de entrenamiento\n",
        "m = len(y)\n",
        "print(X)\n",
        "print(y)"
      ],
      "metadata": {
        "colab": {
          "base_uri": "https://localhost:8080/"
        },
        "id": "0apIB9A-LCK9",
        "outputId": "94e7f081-7ab7-4fb5-a791-81d68292491b"
      },
      "execution_count": 6,
      "outputs": [
        {
          "output_type": "stream",
          "name": "stdout",
          "text": [
            "       bedrooms  bathrooms  sqft_living  sqft_lot  floors  waterfront  view  \\\n",
            "0             3       1.00         1180      5650       1           0     0   \n",
            "1             3       2.25         2570      7242       2           0     0   \n",
            "2             2       1.00          770     10000       1           0     0   \n",
            "3             4       3.00         1960      5000       1           0     0   \n",
            "4             3       2.00         1680      8080       1           0     0   \n",
            "...         ...        ...          ...       ...     ...         ...   ...   \n",
            "17295         4       2.25         1970      7125       1           0     0   \n",
            "17296         1       1.00         1390     60984       1           0     0   \n",
            "17297         4       1.00         1020     11383       1           0     0   \n",
            "17298         4       2.50         2250      7526       2           0     0   \n",
            "17299         2       1.00          800      6240       1           0     0   \n",
            "\n",
            "       condition  grade  sqft_above  sqft_basement  yr_built  yr_renovated  \\\n",
            "0              3      7        1180              0      1955             0   \n",
            "1              3      7        2170            400      1951          1991   \n",
            "2              3      6         770              0      1933             0   \n",
            "3              5      7        1050            910      1965             0   \n",
            "4              3      8        1680              0      1987             0   \n",
            "...          ...    ...         ...            ...       ...           ...   \n",
            "17295          3      7        1500            470      1908             0   \n",
            "17296          3      6        1390              0      1960             0   \n",
            "17297          5      6        1020              0      1947             0   \n",
            "17298          3      8        2250              0      1989             0   \n",
            "17299          3      6         800              0      1954             0   \n",
            "\n",
            "       sqft_living15  sqft_lot15  \n",
            "0               1340        5650  \n",
            "1               1690        7639  \n",
            "2               2720        8062  \n",
            "3               1360        5000  \n",
            "4               1800        7503  \n",
            "...              ...         ...  \n",
            "17295           1980        4750  \n",
            "17296           1620       24225  \n",
            "17297           1290       11213  \n",
            "17298           1980        7526  \n",
            "17299           1530        8000  \n",
            "\n",
            "[17300 rows x 15 columns]\n",
            "0        221900.0\n",
            "1        538000.0\n",
            "2        180000.0\n",
            "3        604000.0\n",
            "4        510000.0\n",
            "           ...   \n",
            "17295    600000.0\n",
            "17296    400000.0\n",
            "17297    364000.0\n",
            "17298    440000.0\n",
            "17299    285000.0\n",
            "Name: price, Length: 17300, dtype: float64\n"
          ]
        }
      ]
    },
    {
      "cell_type": "code",
      "source": [
        "#scala cada característica individualmente restando el valor mínimo y luego dividiendo por el rango (es decir, la diferencia entre el máximo y el mínimo)\n",
        "from sklearn.preprocessing import MinMaxScaler\n",
        "\n",
        "# Convertir datos a tipo float\n",
        "X = X.astype(float)\n",
        "\n",
        "# Crear el objeto MinMaxScaler\n",
        "scaler = MinMaxScaler()\n",
        "\n",
        "# Ajustar el scaler a los datos y transformarlos\n",
        "X_normalized = scaler.fit_transform(X)\n",
        "\n",
        "print(X_normalized)"
      ],
      "metadata": {
        "colab": {
          "base_uri": "https://localhost:8080/"
        },
        "id": "iZzWUQ51S_tr",
        "outputId": "5da8638c-a5d2-4f90-b32f-fcf3aa563014"
      },
      "execution_count": 7,
      "outputs": [
        {
          "output_type": "stream",
          "name": "stdout",
          "text": [
            "[[0.09090909 0.125      0.06150342 ... 0.         0.16476974 0.00573207]\n",
            " [0.09090909 0.28125    0.16704632 ... 0.98808933 0.22605498 0.00801686]\n",
            " [0.06060606 0.125      0.03037206 ... 0.         0.40640868 0.00850277]\n",
            " ...\n",
            " [0.12121212 0.125      0.04935459 ... 0.         0.15601471 0.01212236]\n",
            " [0.12121212 0.3125     0.14274867 ... 0.         0.27683418 0.00788706]\n",
            " [0.06060606 0.125      0.03264996 ... 0.         0.19803887 0.00843155]]\n"
          ]
        }
      ]
    },
    {
      "cell_type": "code",
      "source": [
        "#normalizamos las características\n",
        "def  featureNormalize(X):\n",
        "    X_norm = X.copy()\n",
        "    mu = np.zeros(X.shape[1])\n",
        "    sigma = np.zeros(X.shape[1])\n",
        "\n",
        "    mu = np.mean(X, axis = 0)\n",
        "    sigma = np.std(X, axis = 0)\n",
        "    X_norm = (X - mu) / sigma\n",
        "\n",
        "    return X_norm, mu, sigma"
      ],
      "metadata": {
        "id": "rahwhxsxPTFF"
      },
      "execution_count": 8,
      "outputs": []
    },
    {
      "cell_type": "code",
      "source": [
        "# llama featureNormalize con los datos cargados\n",
        "X_norm, mu, sigma = featureNormalize(X)\n",
        "\n",
        "print(X)\n",
        "print('Media calculada:', mu)\n",
        "print('Desviación estandar calculada:', sigma)\n",
        "print(X_norm)"
      ],
      "metadata": {
        "colab": {
          "base_uri": "https://localhost:8080/"
        },
        "id": "Rm0AplvWPe_O",
        "outputId": "16823f39-563e-4a5d-f9f5-78ebd4bdeaf1"
      },
      "execution_count": 9,
      "outputs": [
        {
          "output_type": "stream",
          "name": "stdout",
          "text": [
            "       bedrooms  bathrooms  sqft_living  sqft_lot  floors  waterfront  view  \\\n",
            "0           3.0       1.00       1180.0    5650.0     1.0         0.0   0.0   \n",
            "1           3.0       2.25       2570.0    7242.0     2.0         0.0   0.0   \n",
            "2           2.0       1.00        770.0   10000.0     1.0         0.0   0.0   \n",
            "3           4.0       3.00       1960.0    5000.0     1.0         0.0   0.0   \n",
            "4           3.0       2.00       1680.0    8080.0     1.0         0.0   0.0   \n",
            "...         ...        ...          ...       ...     ...         ...   ...   \n",
            "17295       4.0       2.25       1970.0    7125.0     1.0         0.0   0.0   \n",
            "17296       1.0       1.00       1390.0   60984.0     1.0         0.0   0.0   \n",
            "17297       4.0       1.00       1020.0   11383.0     1.0         0.0   0.0   \n",
            "17298       4.0       2.50       2250.0    7526.0     2.0         0.0   0.0   \n",
            "17299       2.0       1.00        800.0    6240.0     1.0         0.0   0.0   \n",
            "\n",
            "       condition  grade  sqft_above  sqft_basement  yr_built  yr_renovated  \\\n",
            "0            3.0    7.0      1180.0            0.0    1955.0           0.0   \n",
            "1            3.0    7.0      2170.0          400.0    1951.0        1991.0   \n",
            "2            3.0    6.0       770.0            0.0    1933.0           0.0   \n",
            "3            5.0    7.0      1050.0          910.0    1965.0           0.0   \n",
            "4            3.0    8.0      1680.0            0.0    1987.0           0.0   \n",
            "...          ...    ...         ...            ...       ...           ...   \n",
            "17295        3.0    7.0      1500.0          470.0    1908.0           0.0   \n",
            "17296        3.0    6.0      1390.0            0.0    1960.0           0.0   \n",
            "17297        5.0    6.0      1020.0            0.0    1947.0           0.0   \n",
            "17298        3.0    8.0      2250.0            0.0    1989.0           0.0   \n",
            "17299        3.0    6.0       800.0            0.0    1954.0           0.0   \n",
            "\n",
            "       sqft_living15  sqft_lot15  \n",
            "0             1340.0      5650.0  \n",
            "1             1690.0      7639.0  \n",
            "2             2720.0      8062.0  \n",
            "3             1360.0      5000.0  \n",
            "4             1800.0      7503.0  \n",
            "...              ...         ...  \n",
            "17295         1980.0      4750.0  \n",
            "17296         1620.0     24225.0  \n",
            "17297         1290.0     11213.0  \n",
            "17298         1980.0      7526.0  \n",
            "17299         1530.0      8000.0  \n",
            "\n",
            "[17300 rows x 15 columns]\n",
            "Media calculada: bedrooms             3.366705\n",
            "bathrooms            2.062876\n",
            "sqft_living       2053.862601\n",
            "sqft_lot         15695.389364\n",
            "floors               1.382197\n",
            "waterfront           0.007803\n",
            "view                 0.242428\n",
            "condition            3.449538\n",
            "grade                7.594740\n",
            "sqft_above        1751.236127\n",
            "sqft_basement      302.626474\n",
            "yr_built          1967.369827\n",
            "yr_renovated        89.402023\n",
            "sqft_living15     1975.091561\n",
            "sqft_lot15       13261.343179\n",
            "dtype: float64\n",
            "Desviación estandar calculada: bedrooms             0.935974\n",
            "bathrooms            0.758318\n",
            "sqft_living        904.000890\n",
            "sqft_lot         41582.380542\n",
            "floors               0.518608\n",
            "waterfront           0.087992\n",
            "view                 0.779034\n",
            "condition            0.666496\n",
            "grade                1.169154\n",
            "sqft_above         806.108795\n",
            "sqft_basement      449.912711\n",
            "yr_built            27.905888\n",
            "yr_renovated       412.839312\n",
            "sqft_living15      673.760445\n",
            "sqft_lot15       27246.452539\n",
            "dtype: float64\n",
            "       bedrooms  bathrooms  sqft_living  sqft_lot    floors  waterfront  \\\n",
            "0     -0.391790  -1.401623    -0.966661 -0.241578 -0.736966   -0.088684   \n",
            "1     -0.391790   0.246762     0.570948 -0.203293  1.191272   -0.088684   \n",
            "2     -1.460196  -1.401623    -1.420201 -0.136966 -0.736966   -0.088684   \n",
            "3      0.676616   1.235794    -0.103830 -0.257210 -0.736966   -0.088684   \n",
            "4     -0.391790  -0.082915    -0.413564 -0.183140 -0.736966   -0.088684   \n",
            "...         ...        ...          ...       ...       ...         ...   \n",
            "17295  0.676616   0.246762    -0.092768 -0.206106 -0.736966   -0.088684   \n",
            "17296 -2.528601  -1.401623    -0.734361  1.089130 -0.736966   -0.088684   \n",
            "17297  0.676616  -1.401623    -1.143652 -0.103707 -0.736966   -0.088684   \n",
            "17298  0.676616   0.576439     0.216966 -0.196463  1.191272   -0.088684   \n",
            "17299 -1.460196  -1.401623    -1.387015 -0.227389 -0.736966   -0.088684   \n",
            "\n",
            "          view  condition     grade  sqft_above  sqft_basement  yr_built  \\\n",
            "0     -0.31119  -0.674479 -0.508693   -0.708634      -0.672634 -0.443269   \n",
            "1     -0.31119  -0.674479 -0.508693    0.519488       0.216428 -0.586608   \n",
            "2     -0.31119  -0.674479 -1.364012   -1.217250      -0.672634 -1.231633   \n",
            "3     -0.31119   2.326290 -0.508693   -0.869903       1.349981 -0.084922   \n",
            "4     -0.31119  -0.674479  0.346627   -0.088370      -0.672634  0.703442   \n",
            "...        ...        ...       ...         ...            ...       ...   \n",
            "17295 -0.31119  -0.674479 -0.508693   -0.311665       0.372013 -2.127502   \n",
            "17296 -0.31119  -0.674479 -1.364012   -0.448123      -0.672634 -0.264096   \n",
            "17297 -0.31119   2.326290 -1.364012   -0.907118      -0.672634 -0.729947   \n",
            "17298 -0.31119  -0.674479  0.346627    0.618730      -0.672634  0.775111   \n",
            "17299 -0.31119  -0.674479 -1.364012   -1.180034      -0.672634 -0.479104   \n",
            "\n",
            "       yr_renovated  sqft_living15  sqft_lot15  \n",
            "0         -0.216554      -0.942607   -0.279352  \n",
            "1          4.606146      -0.423135   -0.206351  \n",
            "2         -0.216554       1.105598   -0.190826  \n",
            "3         -0.216554      -0.912923   -0.303208  \n",
            "4         -0.216554      -0.259872   -0.211343  \n",
            "...             ...            ...         ...  \n",
            "17295     -0.216554       0.007285   -0.312384  \n",
            "17296     -0.216554      -0.527029    0.402388  \n",
            "17297     -0.216554      -1.016818   -0.075178  \n",
            "17298     -0.216554       0.007285   -0.210499  \n",
            "17299     -0.216554      -0.660608   -0.193102  \n",
            "\n",
            "[17300 rows x 15 columns]\n"
          ]
        }
      ]
    },
    {
      "cell_type": "code",
      "source": [
        "# Añade el termino de interseccion a X\n",
        "# (Columna de unos para X0)\n",
        "X = np.concatenate([np.ones((m, 1)), X_norm], axis=1)"
      ],
      "metadata": {
        "id": "f9sb6--kWFlB"
      },
      "execution_count": 10,
      "outputs": []
    },
    {
      "cell_type": "code",
      "source": [
        "print(X)"
      ],
      "metadata": {
        "colab": {
          "base_uri": "https://localhost:8080/"
        },
        "id": "AZdt4oAHWIZH",
        "outputId": "beec5665-af92-4784-b1b5-1a2ab2233c7a"
      },
      "execution_count": 11,
      "outputs": [
        {
          "output_type": "stream",
          "name": "stdout",
          "text": [
            "[[ 1.         -0.3917899  -1.40162303 ... -0.21655405 -0.94260737\n",
            "  -0.27935171]\n",
            " [ 1.         -0.3917899   0.24676234 ...  4.60614559 -0.4231349\n",
            "  -0.20635138]\n",
            " [ 1.         -1.46019553 -1.40162303 ... -0.21655405  1.10559836\n",
            "  -0.19082643]\n",
            " ...\n",
            " [ 1.          0.67661572 -1.40162303 ... -0.21655405 -1.01681772\n",
            "  -0.07517834]\n",
            " [ 1.          0.67661572  0.57643941 ... -0.21655405  0.00728514\n",
            "  -0.21049871]\n",
            " [ 1.         -1.46019553 -1.40162303 ... -0.21655405 -0.66060803\n",
            "  -0.19310195]]\n"
          ]
        }
      ]
    },
    {
      "cell_type": "markdown",
      "source": [
        "## DESCENSO POR GRADIENTE"
      ],
      "metadata": {
        "id": "_ApVLjQzWL-5"
      }
    },
    {
      "cell_type": "code",
      "source": [
        "def computeCostMulti(X, y, theta):\n",
        "    # Inicializa algunos valores utiles\n",
        "    m = y.shape[0] # numero de ejemplos de entrenamiento\n",
        "\n",
        "    J = 0\n",
        "\n",
        "    h = np.dot(X, theta)\n",
        "\n",
        "    J = (1/(2 * m)) * np.sum(np.square(np.dot(X, theta) - y))\n",
        "\n",
        "    return J"
      ],
      "metadata": {
        "id": "KFtIuesAWQM5"
      },
      "execution_count": 12,
      "outputs": []
    },
    {
      "cell_type": "code",
      "source": [
        "def gradientDescentMulti(X, y, theta, alpha, num_iters):\n",
        "\n",
        "    # Inicializa algunos valores\n",
        "    m = y.shape[0] # numero de ejemplos de entrenamiento\n",
        "\n",
        "    # realiza una copia de theta, el cual será acutalizada por el descenso por el gradiente\n",
        "\n",
        "    theta = theta.copy()\n",
        "\n",
        "    J_history = []\n",
        "\n",
        "    for i in range(num_iters):\n",
        "        theta = theta - (alpha / m) * (np.dot(X, theta) - y).dot(X)\n",
        "        J_history.append(computeCostMulti(X, y, theta))\n",
        "\n",
        "    return theta, J_history"
      ],
      "metadata": {
        "id": "ueNCKqo0WTui"
      },
      "execution_count": 13,
      "outputs": []
    },
    {
      "cell_type": "code",
      "source": [
        "\n",
        "# Elegir algún valor para alpha (probar varias alternativas)\n",
        "alpha = 0.001\n",
        "num_iters = 5000\n",
        "\n",
        "# Inicializa theta y ejecuta el descenso por el gradiente\n",
        "theta = np.zeros(X.shape[1])\n",
        "y = y.astype(float)\n",
        "theta, J_history = gradientDescentMulti(X, y, theta, alpha, num_iters)\n",
        "\n",
        "# Grafica la convergencia del costo\n",
        "plt.plot(np.arange(len(J_history)), J_history, lw=2)\n",
        "plt.xlabel('Numero de iteraciones')\n",
        "plt.ylabel('Costo J')\n",
        "plt.show()\n",
        "\n",
        "# Muestra los resultados del descenso por el gradiente\n",
        "print('Theta calculado por el descenso por el gradiente:', theta)\n",
        "\n",
        "\n",
        "X_array = np.array([3,2.5,1600,2388,2,0,0,3,8,1600,0,2004,0,1410,1287])\n",
        "X_array_normalized = (X_array - mu) / sigma\n",
        "X_array_normalized = np.insert(X_array_normalized, 0, 1)  # Agregar el término de intersección\n",
        "price = np.dot(X_array_normalized, theta)\n",
        "\n",
        "print('El precio predecido para un conjunto de características X_array (usando el descenso por el gradiente): ${:.2f}'.format(price))\n"
      ],
      "metadata": {
        "colab": {
          "base_uri": "https://localhost:8080/",
          "height": 556
        },
        "id": "GNIqOTfBWX5B",
        "outputId": "51b519e8-a27d-4952-cc5f-6ebc50f147ac"
      },
      "execution_count": 14,
      "outputs": [
        {
          "output_type": "display_data",
          "data": {
            "text/plain": [
              "<Figure size 640x480 with 1 Axes>"
            ],
            "image/png": "[encoded data removed]"
          },
          "metadata": {}
        },
        {
          "output_type": "stream",
          "name": "stdout",
          "text": [
            "Theta calculado por el descenso por el gradiente: [ 5.29605873e+05 -3.06522416e+04  3.00320502e+04  7.51187497e+04\n",
            " -2.76386860e+02  5.84809047e+03  5.06502958e+04  3.63707037e+04\n",
            "  1.73352856e+04  1.12220365e+05  6.58953743e+04  3.28698775e+04\n",
            " -9.55925163e+04  9.82177601e+03  4.28263655e+04 -1.60806401e+04]\n",
            "El precio predecido para un conjunto de características X_array (usando el descenso por el gradiente): $348735.17\n"
          ]
        }
      ]
    },
    {
      "cell_type": "code",
      "source": [
        "X_array = [1,3,1,1180,5650,1,0,0,3,7,1180,0,1955,0,1340,5650]\n",
        "X_array[1:19] = (X_array[1:19] - mu) / sigma"
      ],
      "metadata": {
        "id": "z6q5HvOGdjf2"
      },
      "execution_count": 15,
      "outputs": []
    },
    {
      "cell_type": "code",
      "source": [
        "\n",
        "price = np.dot(X_array, theta)   # Se debe cambiar esto\n",
        "\n",
        "print('El precio predecido para una casa de las características de x_array (usando el descenso por el gradiente): ${:.0f}'.format(price))"
      ],
      "metadata": {
        "colab": {
          "base_uri": "https://localhost:8080/"
        },
        "id": "-LJnC8ZcfuG1",
        "outputId": "3705cf3e-37c5-4965-8860-59981a308d9c"
      },
      "execution_count": 16,
      "outputs": [
        {
          "output_type": "stream",
          "name": "stdout",
          "text": [
            "El precio predecido para una casa de las características de x_array (usando el descenso por el gradiente): $273641\n"
          ]
        }
      ]
    }
  ]
}