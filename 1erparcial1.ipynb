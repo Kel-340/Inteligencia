{
  "nbformat": 4,
  "nbformat_minor": 0,
  "metadata": {
    "colab": {
      "provenance": []
    },
    "kernelspec": {
      "name": "python3",
      "display_name": "Python 3"
    },
    "language_info": {
      "name": "python"
    }
  },
  "cells": [
    {
      "cell_type": "markdown",
      "source": [
        "## 1er parcial pregunta 41 - DataSet FullBank - Clasificación\n",
        "# NAVA SIÑANI KELVIN\n"
      ],
      "metadata": {
        "id": "OXTUjuMM27DN"
      }
    },
    {
      "cell_type": "code",
      "source": [],
      "metadata": {
        "id": "76aQ9sR1J8G1"
      },
      "execution_count": null,
      "outputs": []
    },
    {
      "cell_type": "code",
      "execution_count": 115,
      "metadata": {
        "colab": {
          "base_uri": "https://localhost:8080/"
        },
        "id": "o1P1P3lnzKE9",
        "outputId": "9f478201-e62d-4676-f3b9-a887bf9d9504"
      },
      "outputs": [
        {
          "output_type": "stream",
          "name": "stdout",
          "text": [
            "Drive already mounted at /content/drive; to attempt to forcibly remount, call drive.mount(\"/content/drive\", force_remount=True).\n"
          ]
        }
      ],
      "source": [
        "#montamos la carpeta drive\n",
        "from google.colab import drive\n",
        "drive.mount('/content/drive')"
      ]
    },
    {
      "cell_type": "code",
      "source": [
        "#Se importan las librerias que se haran uso\n",
        "import os\n",
        "# Calculo cientifico y vectorial para python\n",
        "import numpy as np\n",
        "# Librerias para graficar\n",
        "from matplotlib import pyplot\n",
        "# Modulo de optimización de scipy\n",
        "from scipy import optimize\n",
        "import pandas as pd\n",
        "from sklearn import preprocessing\n",
        "import csv\n",
        "%matplotlib inline"
      ],
      "metadata": {
        "id": "gOZhpguzzeGa"
      },
      "execution_count": 116,
      "outputs": []
    },
    {
      "cell_type": "code",
      "source": [
        "#cargado de datos\n",
        "df = pd.read_csv(\"/content/drive/MyDrive/bank-full.csv\", sep=\";\")\n",
        "#uso de diccionarios para cambiar los datos\n",
        "diccionario = {\"no\": 0, \"yes\": 1}\n",
        "df[\"y\"] = df[\"y\"].replace(diccionario)#se crea el diccionario y a la columna de \"y\" se cambia sus valores por 0, 1 (yes=1, no=0)\n",
        "diccionario = {\"no\": 1, \"yes\": 2}\n",
        "df[\"housing\"] = df[\"housing\"].replace(diccionario) # se cambia los valores a la columna de housing (yes=1, no=0)\n",
        "diccionario2 = {\"married\": 1, \"single\": 2, \"divorced\":3}\n",
        "df[\"marital\"] = df[\"marital\"].replace(diccionario2) # se cambia los valores a la columna marital (\"married\": 1, \"single\": 2, \"divorced\":3)\n",
        "diccionario3 = {\"unknown\": 1, \"cellular\": 2, \"telephone\":3}\n",
        "df[\"contact\"] = df[\"contact\"].replace(diccionario3) # se cambia los valores a la columna contact (\"unknown\": 1, \"cellular\": 2, \"telephone\":3)\n",
        "diccionario4 = {\"ene\": 1, \"feb\": 1, \"mar\":2, \"apr\":3, \"may\":4, \"jan\":1, \"jul\":67, \"aug\":8, \"sep\":9, \"oct\":10, \"nov\":11, \"dec\":12,\"jun\":6}\n",
        "df[\"month\"] = df[\"month\"].replace(diccionario4) # se cambia los valores a la columna month\n",
        "diccionario5 = {\"unknown\": 12, \"blue-collar\": 1, \"management\":2, \"technician\":3, \"admin.\":4, \"services\":5, \"retired\":6, \"self-employed\":7, \"entrepreneur\":8, \"unemployed\":9, \"housemaid\":10, \"student\":11}\n",
        "df[\"job\"] = df[\"job\"].replace(diccionario5)  # se cambia los valores a la columna job\n",
        "diccionario5 = {\"unknown\": 4, \"tertiary\": 1, \"primary\":2, \"secondary\":3}\n",
        "df[\"education\"] = df[\"education\"].replace(diccionario5) # se cambia los valores a la columna education\n",
        "diccionario5 = {\"unknown\": 4, \"failure\": 1, \"other\":2, \"success\":3}\n",
        "df[\"poutcome\"] = df[\"poutcome\"].replace(diccionario5) # se cambia los valores a la columna putcome\n",
        "#se eliminan los datos que entran en conflicto con las operaciones\n",
        "df = df.drop('default', axis=1)\n",
        "df = df.drop('loan', axis=1)\n",
        "df.drop_duplicates()\n",
        "df.dropna(axis=0, thresh=2) #Elimina filas con n o más valores nulos.\n",
        "\n",
        "#se asigna el 80% para train y el 20% para test\n",
        "X_train = df.iloc[:36169, :-1]\n",
        "X_test = df.iloc[36169:, :-1]\n",
        "y_train = df.iloc[:36169, df.columns.get_loc(\"y\")]\n",
        "y_test = df.iloc[36169:, df.columns.get_loc(\"y\")]\n",
        "\n",
        "X=X_train\n",
        "y=y_train\n",
        "\n",
        "print(X)\n",
        "print(y)"
      ],
      "metadata": {
        "id": "hpkk8pHnzrjK",
        "colab": {
          "base_uri": "https://localhost:8080/"
        },
        "outputId": "d9f14c1d-2a45-4978-ad19-4597c02473c3"
      },
      "execution_count": 117,
      "outputs": [
        {
          "output_type": "stream",
          "name": "stdout",
          "text": [
            "       age  job  marital  education  balance  housing  contact  day  month  \\\n",
            "0       58    2        1          1     2143        2        1    5      4   \n",
            "1       44    3        2          3       29        2        1    5      4   \n",
            "2       33    8        1          3        2        2        1    5      4   \n",
            "3       47    1        1          4     1506        2        1    5      4   \n",
            "4       33   12        2          4        1        1        1    5      4   \n",
            "...    ...  ...      ...        ...      ...      ...      ...  ...    ...   \n",
            "36164   54    3        3          3     1252        2        2   11      4   \n",
            "36165   40    2        1          1      -17        2        2   11      4   \n",
            "36166   45    1        1          4      -72        2        2   11      4   \n",
            "36167   41    7        2          1      428        2        2   11      4   \n",
            "36168   35    1        2          3       41        2        2   11      4   \n",
            "\n",
            "       duration  campaign  pdays  previous  poutcome  \n",
            "0           261         1     -1         0         4  \n",
            "1           151         1     -1         0         4  \n",
            "2            76         1     -1         0         4  \n",
            "3            92         1     -1         0         4  \n",
            "4           198         1     -1         0         4  \n",
            "...         ...       ...    ...       ...       ...  \n",
            "36164       101         1    350         1         1  \n",
            "36165       474         1    256         1         3  \n",
            "36166       306         1     -1         0         4  \n",
            "36167       106         1     -1         0         4  \n",
            "36168        14         5     -1         0         4  \n",
            "\n",
            "[36169 rows x 14 columns]\n",
            "0        0\n",
            "1        0\n",
            "2        0\n",
            "3        0\n",
            "4        0\n",
            "        ..\n",
            "36164    0\n",
            "36165    1\n",
            "36166    0\n",
            "36167    0\n",
            "36168    0\n",
            "Name: y, Length: 36169, dtype: int64\n"
          ]
        }
      ]
    },
    {
      "cell_type": "markdown",
      "source": [
        "# **Se crea la función sigmoid**"
      ],
      "metadata": {
        "id": "Uq05vo_N6jO7"
      }
    },
    {
      "cell_type": "code",
      "source": [
        "#genera un número entre 0 y 1\n",
        "def sigmoid(z):\n",
        "    z = np.array(z)\n",
        "    g = np.zeros(z.shape)\n",
        "    g = 1 / (1 + np.exp(-z))\n",
        "\n",
        "    return g"
      ],
      "metadata": {
        "id": "XqsiT4Cs1F5i"
      },
      "execution_count": 118,
      "outputs": []
    },
    {
      "cell_type": "code",
      "source": [
        "#pruba de la funcion\n",
        "z = 0\n",
        "g = sigmoid(z)\n",
        "\n",
        "print('g(', z, ') = ', g)"
      ],
      "metadata": {
        "colab": {
          "base_uri": "https://localhost:8080/"
        },
        "id": "GllC_j_u1IB7",
        "outputId": "0f007acf-3e8b-42b5-aa81-713df7101a9d"
      },
      "execution_count": 119,
      "outputs": [
        {
          "output_type": "stream",
          "name": "stdout",
          "text": [
            "g( 0 ) =  0.5\n"
          ]
        }
      ]
    },
    {
      "cell_type": "code",
      "source": [
        "#devuelve 0 o 1\n",
        "def decision(probabilidad):\n",
        "  punto_corte = 0.5\n",
        "  return np.where(probabilidad >= punto_corte, 1, 0)"
      ],
      "metadata": {
        "id": "fmchCnrL1KAo"
      },
      "execution_count": 120,
      "outputs": []
    },
    {
      "cell_type": "code",
      "source": [
        "#normalizamos los datos\n",
        "def  featureNormalize(X):\n",
        "    X_norm = X.copy()\n",
        "    mu = np.zeros(X.shape[1])\n",
        "    sigma = np.zeros(X.shape[1])\n",
        "\n",
        "    mu = np.mean(X, axis = 0)\n",
        "    sigma = np.std(X, axis = 0)\n",
        "    X_norm = (X - mu) / sigma\n",
        "\n",
        "    return X_norm, mu, sigma"
      ],
      "metadata": {
        "id": "TCiWh2Qp1NoA"
      },
      "execution_count": 121,
      "outputs": []
    },
    {
      "cell_type": "code",
      "source": [
        "X_norm, mu, sigma = featureNormalize(X)"
      ],
      "metadata": {
        "id": "bBz8v9xs1NrA"
      },
      "execution_count": 122,
      "outputs": []
    },
    {
      "cell_type": "code",
      "source": [
        "#Agrega la columna de 1\n",
        "m, n = X.shape\n",
        "X = np.concatenate([np.ones((m, 1)), X_norm], axis=1)"
      ],
      "metadata": {
        "id": "VKpTnQ5j1NuE"
      },
      "execution_count": 123,
      "outputs": []
    },
    {
      "cell_type": "code",
      "source": [
        "def calcularCosto(theta, X, y):\n",
        "    m = y.size\n",
        "    lambda_ = 0.1\n",
        "    J = 0\n",
        "    h = sigmoid(X.dot(theta.T))\n",
        "    temp = theta\n",
        "    temp[0] = 0\n",
        "    J = (1 / m) * np.sum(-y.dot(np.log(h)) - (1 - y).dot(np.log(1 - h)))  + (lambda_ / (2 * m)) * np.sum(np.square(temp))\n",
        "\n",
        "    grad = (1 / m) * (h - y).dot(X)\n",
        "    grad = grad + (lambda_ / m) * temp\n",
        "\n",
        "    return J"
      ],
      "metadata": {
        "id": "-d1bup0_1TUS"
      },
      "execution_count": 124,
      "outputs": []
    },
    {
      "cell_type": "code",
      "source": [
        "def descensoGradiente(theta, X, y, alpha, num_iters):\n",
        "    m = y.shape[0]\n",
        "    theta = theta.copy()\n",
        "    J_history = []\n",
        "\n",
        "    for i in range(num_iters):\n",
        "        h = sigmoid(X.dot(theta.T))\n",
        "        theta = theta - (alpha / m) * (h - y).dot(X)\n",
        "\n",
        "        J_history.append(calcularCosto(theta, X, y))\n",
        "    return theta, J_history"
      ],
      "metadata": {
        "id": "OBhG1QQc1TXw"
      },
      "execution_count": 125,
      "outputs": []
    },
    {
      "cell_type": "code",
      "source": [
        "# Elegir algun valor para alpha (probar varias alternativas)\n",
        "alpha = 0.001\n",
        "num_iters = 15000\n",
        "\n",
        "num_features = X.shape[1]\n",
        "# inicializa theta y ejecuta el descenso por el gradiente np.zeros(15) son 16 columnas pero una fue omitida\n",
        "theta = np.zeros(15)\n",
        "print(theta)\n",
        "theta, J_history = descensoGradiente(theta, X, y, alpha, num_iters)\n",
        "\n",
        "\n",
        "pyplot.plot(np.arange(len(J_history)), J_history, lw=2)\n",
        "pyplot.xlabel('Numero de iteraciones')\n",
        "pyplot.ylabel('Costo J')\n",
        "# Muestra los resultados del descenso por el gradiente\n",
        "print('theta calculado por el descenso por el gradiente: {:s}'.format(str(theta)))"
      ],
      "metadata": {
        "colab": {
          "base_uri": "https://localhost:8080/",
          "height": 522
        },
        "id": "lkErWrza1Tap",
        "outputId": "179aafcd-d352-48c0-cb0a-6201fb07e7f7"
      },
      "execution_count": 126,
      "outputs": [
        {
          "output_type": "stream",
          "name": "stdout",
          "text": [
            "[0. 0. 0. 0. 0. 0. 0. 0. 0. 0. 0. 0. 0. 0. 0.]\n",
            "theta calculado por el descenso por el gradiente: [ 0.         -0.00622019  0.01198971  0.03350367 -0.02954882  0.01593752\n",
            " -0.0501656   0.08835569  0.012962   -0.05640743  0.54464761  0.0029304\n",
            " -0.00825496  0.00073857  0.01234136]\n"
          ]
        },
        {
          "output_type": "display_data",
          "data": {
            "text/plain": [
              "<Figure size 640x480 with 1 Axes>"
            ],
            "image/png": "[encoded data removed]"
          },
          "metadata": {}
        }
      ]
    },
    {
      "cell_type": "code",
      "source": [
        "X_test, mu, sigma = featureNormalize(X_test)\n",
        "m, n = X_test.shape\n",
        "X_test = np.concatenate([np.ones((m, 1)), X_test], axis=1)\n",
        "aprueba = sigmoid(np.dot(X_test, theta))\n"
      ],
      "metadata": {
        "id": "X6xacMms1Tdc"
      },
      "execution_count": 127,
      "outputs": []
    },
    {
      "cell_type": "code",
      "source": [
        "#Test con el 20% de datos\n",
        "probabilidad = sigmoid(np.dot(X_test, theta))\n",
        "resultado = decision(probabilidad)\n",
        "print(resultado)\n",
        "print(y_train)"
      ],
      "metadata": {
        "colab": {
          "base_uri": "https://localhost:8080/"
        },
        "id": "UHcpD9ZK3HgX",
        "outputId": "22abfd6e-6515-4ce2-c920-b08e19833585"
      },
      "execution_count": 128,
      "outputs": [
        {
          "output_type": "stream",
          "name": "stdout",
          "text": [
            "[0 0 1 ... 1 1 1]\n",
            "0        0\n",
            "1        0\n",
            "2        0\n",
            "3        0\n",
            "4        0\n",
            "        ..\n",
            "36164    0\n",
            "36165    1\n",
            "36166    0\n",
            "36167    0\n",
            "36168    0\n",
            "Name: y, Length: 36169, dtype: int64\n"
          ]
        }
      ]
    },
    {
      "cell_type": "code",
      "source": [
        "#\n",
        "def costFunction(theta, X, y):\n",
        "    # Inicializar algunos valores utiles\n",
        "    m = y.size  # numero de ejemplos de entrenamiento\n",
        "\n",
        "    J = 0\n",
        "    grad = np.zeros(theta.shape)\n",
        "\n",
        "    h = sigmoid(X.dot(theta.T))\n",
        "\n",
        "    J = (1 / m) * np.sum(-y.dot(np.log(h)) - (1 - y).dot(np.log(1 - h)))\n",
        "    grad = (1 / m) * (h - y).dot(X)\n",
        "\n",
        "    return J, grad"
      ],
      "metadata": {
        "id": "Pp0atAGd3Hoo"
      },
      "execution_count": 129,
      "outputs": []
    },
    {
      "cell_type": "code",
      "source": [
        "# Inicializacion de parametros de ajuste\n",
        "initial_theta = np.zeros(n+1)\n",
        "print(initial_theta)\n",
        "cost, grad = costFunction(initial_theta, X, y)\n",
        "\n",
        "print('Costo en theta inicial (zeros): {:.3f}'.format(cost))\n",
        "print('Costo esperado (aproximado): 0.693\\n')\n",
        "print(grad)\n",
        "print('Gradiente en theta inicial (zeros):')\n",
        "print('\\t[{:.4f}, {:.4f}, {:.4f}]'.format(*grad))\n",
        "print('Gradiente esperado (aproximado):\\n\\t[-0.1000, -12.0092, -11.2628]\\n')"
      ],
      "metadata": {
        "colab": {
          "base_uri": "https://localhost:8080/"
        },
        "id": "JULSyFuJ3Hrv",
        "outputId": "65c66ea2-689d-4bd0-fa30-d69f1762fcd3"
      },
      "execution_count": 130,
      "outputs": [
        {
          "output_type": "stream",
          "name": "stdout",
          "text": [
            "[0. 0. 0. 0. 0. 0. 0. 0. 0. 0. 0. 0. 0. 0. 0.]\n",
            "Costo en theta inicial (zeros): 0.693\n",
            "Costo esperado (aproximado): 0.693\n",
            "\n",
            "[ 4.32732450e-01  3.66702823e-03 -4.53067277e-03 -1.10467743e-02\n",
            "  9.37781263e-03 -7.11944194e-03  1.39932145e-02 -1.86065755e-02\n",
            "  5.63104747e-05  4.50699800e-03 -1.15565577e-01  8.24986592e-03\n",
            "  1.48313396e-03 -6.50982324e-05 -1.90783953e-03]\n",
            "Gradiente en theta inicial (zeros):\n",
            "\t[0.4327, 0.0037, -0.0045]\n",
            "Gradiente esperado (aproximado):\n",
            "\t[-0.1000, -12.0092, -11.2628]\n",
            "\n"
          ]
        }
      ]
    },
    {
      "cell_type": "code",
      "source": [
        "# Calcula y muestra el costo y el gradiente con valores de theta diferentes a cero\n",
        "\n",
        "test_theta = np.array(X[1])\n",
        "\n",
        "print(test_theta)\n",
        "cost, grad = costFunction(test_theta, X, y)\n",
        "\n",
        "print('Costo en theta prueba: {:.3f}'.format(cost))\n",
        "print('Costo esperado (aproximado): 0.218\\n')\n",
        "\n",
        "print('Gradiente en theta prueba:')\n",
        "print('\\t[{:.3f}, {:.3f}, {:.3f}]'.format(*grad))\n",
        "print('Gradiente esperado (aproximado):\\n\\t[0.043, 2.566, 2.647]')"
      ],
      "metadata": {
        "colab": {
          "base_uri": "https://localhost:8080/"
        },
        "id": "Q2fL0me93OCw",
        "outputId": "4de566e8-243f-4848-adf6-a7dea58bc12f"
      },
      "execution_count": 131,
      "outputs": [
        {
          "output_type": "stream",
          "name": "stdout",
          "text": [
            "[ 1.          0.32734221 -0.23025329  0.71729697  0.73830392 -0.43323871\n",
            "  0.85677236 -1.24206996 -1.31055339 -0.51943562 -0.40144511 -0.57728007\n",
            " -0.31466723 -0.15823231  0.33461018]\n",
            "Costo en theta prueba: 1.951\n",
            "Costo esperado (aproximado): 0.218\n",
            "\n",
            "Gradiente en theta prueba:\n",
            "\t[0.546, 0.005, -0.037]\n",
            "Gradiente esperado (aproximado):\n",
            "\t[0.043, 2.566, 2.647]\n"
          ]
        }
      ]
    },
    {
      "cell_type": "code",
      "source": [
        "# Establecer las opciones para optimize.minimize\n",
        "options= {'maxiter': 1000}\n",
        "\n",
        "# revisar la documentacion de scipy's optimize.minimize para mayor descripcion de los parametros\n",
        "# La funcion devuelve un objeto `OptimizeResult`\n",
        "# Se utiliza el algoritmo de Newton truncado para la optimización.\n",
        "res = optimize.minimize(costFunction,\n",
        "                        initial_theta,\n",
        "                        (X, y),\n",
        "                        jac=True,\n",
        "                        method='TNC',\n",
        "                        options=options)\n",
        "\n",
        "# la propiedad fun del objeto devuelto por `OptimizeResult`\n",
        "# contiene el valor del costFunction de un theta optimizado\n",
        "cost = res.fun\n",
        "\n",
        "# Theta optimizada esta en la propiedad x\n",
        "theta = res.x\n",
        "\n",
        "# Imprimir theta en la pantalla\n",
        "print('Costo con un valor de theta encontrado por optimize.minimize: {:.3f}'.format(cost))\n",
        "print('Costo esperado (aproximado): 0.203\\n');\n",
        "\n",
        "print('theta:')\n",
        "print('\\t[{:.3f}, {:.3f}, {:.3f}]'.format(*theta))\n",
        "print('Theta esperado (aproximado):\\n\\t[-25.161, 0.206, 0.201]')"
      ],
      "metadata": {
        "colab": {
          "base_uri": "https://localhost:8080/"
        },
        "id": "jxgn41_G3WJR",
        "outputId": "6073464d-500c-4e9b-cd56-3971f8412eae"
      },
      "execution_count": 132,
      "outputs": [
        {
          "output_type": "stream",
          "name": "stderr",
          "text": [
            "<ipython-input-132-d17edb1aa764>:7: OptimizeWarning: Unknown solver options: maxiter\n",
            "  res = optimize.minimize(costFunction,\n",
            "<ipython-input-129-db440af18730>:11: RuntimeWarning: divide by zero encountered in log\n",
            "  J = (1 / m) * np.sum(-y.dot(np.log(h)) - (1 - y).dot(np.log(1 - h)))\n"
          ]
        },
        {
          "output_type": "stream",
          "name": "stdout",
          "text": [
            "Costo con un valor de theta encontrado por optimize.minimize: 0.174\n",
            "Costo esperado (aproximado): 0.203\n",
            "\n",
            "theta:\n",
            "\t[-3.362, -0.073, 0.036]\n",
            "Theta esperado (aproximado):\n",
            "\t[-25.161, 0.206, 0.201]\n"
          ]
        }
      ]
    },
    {
      "cell_type": "code",
      "source": [
        "def predict(theta, X):\n",
        "    m = X.shape[0] # Numero de ejemplo de entrenamiento\n",
        "\n",
        "    p = np.zeros(m)\n",
        "\n",
        "    p = np.round(sigmoid(X.dot(theta.T)))\n",
        "    return p"
      ],
      "metadata": {
        "id": "Qr-Vfi9s3az6"
      },
      "execution_count": 133,
      "outputs": []
    },
    {
      "cell_type": "code",
      "source": [
        "#  Predice la probabilidad de suscripción de un cliente a una cuenta bancaria\n",
        "prob = sigmoid(np.dot([1,24,3,1,1,1520,0,1,5,4,0,0,-1,0,4], theta))\n",
        "print('Para un cliente con los datos introducidos se predice una probabilidad de sucripción de: {:.3f}%'.format(prob))\n",
        "print('Valor esperado: 0.775 +/- 0.002\\n')\n",
        "\n",
        "# Compute accuracy on our training set\n",
        "p = predict(theta, X)\n",
        "print('Precisión de entrenamiento: {:.2f} %'.format(np.mean(p == y) * 100))\n",
        "print('Precisión esperada (aproximadamente): 89.00 %')"
      ],
      "metadata": {
        "colab": {
          "base_uri": "https://localhost:8080/"
        },
        "id": "I3ds01w-3a3B",
        "outputId": "b6a224e3-bc5f-4248-a1a2-1dc32f946c56"
      },
      "execution_count": 142,
      "outputs": [
        {
          "output_type": "stream",
          "name": "stdout",
          "text": [
            "Para un cliente con los datos introducidos se predice una probabilidad de sucripción de: 1.000%\n",
            "Valor esperado: 0.775 +/- 0.002\n",
            "\n",
            "Precisión de entrenamiento: 93.78 %\n",
            "Precisión esperada (aproximadamente): 89.00 %\n"
          ]
        }
      ]
    }
  ]
}