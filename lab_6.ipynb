{
  "nbformat": 4,
  "nbformat_minor": 0,
  "metadata": {
    "colab": {
      "provenance": []
    },
    "kernelspec": {
      "name": "python3",
      "display_name": "Python 3"
    },
    "language_info": {
      "name": "python"
    }
  },
  "cells": [
    {
      "cell_type": "markdown",
      "source": [
        "# LAB#6 DATASET https://www.kaggle.com/datasets/mitishaagarwal/patient\n",
        "# Supervivencia de un paciente\n",
        "# **Github https://github.com/Kel-340/InteligenciaArtificial**"
      ],
      "metadata": {
        "id": "w6N7636eF2Uv"
      }
    },
    {
      "cell_type": "code",
      "execution_count": 3,
      "metadata": {
        "colab": {
          "base_uri": "https://localhost:8080/"
        },
        "id": "THptPR09prtW",
        "outputId": "7b711b3d-b596-489f-b685-7ca057087118"
      },
      "outputs": [
        {
          "output_type": "stream",
          "name": "stdout",
          "text": [
            "Mounted at /content/drive\n"
          ]
        }
      ],
      "source": [
        "from google.colab import drive\n",
        "drive.mount('/content/drive')"
      ]
    },
    {
      "cell_type": "code",
      "source": [
        "# used for manipulating directory paths\n",
        "import os\n",
        "\n",
        "# Scientific and vector computation for python\n",
        "import numpy as np\n",
        "\n",
        "import pandas as pd\n",
        "\n",
        "# Plotting library\n",
        "from matplotlib import pyplot\n",
        "\n",
        "# Optimization module in scipy\n",
        "from scipy import optimize\n",
        "\n",
        "# will be used to load MATLAB mat datafile format\n",
        "# from scipy.io import loadmat\n",
        "\n",
        "# library written for this exercise providing additional functions for assignment submission, and others\n",
        "# import utils\n",
        "\n",
        "\n",
        "# tells matplotlib to embed plots within the notebook\n",
        "%matplotlib inline"
      ],
      "metadata": {
        "id": "MzkMIZ7Xpt8w"
      },
      "execution_count": 4,
      "outputs": []
    },
    {
      "cell_type": "markdown",
      "source": [],
      "metadata": {
        "id": "VSR9TjenFz83"
      }
    },
    {
      "cell_type": "code",
      "source": [
        "# Cargar el dataset\n",
        "df = pd.read_csv('//content/drive/MyDrive/dataset.csv', sep=\",\")\n",
        "#preprocesar los datos cambiar los strings por algun valor numérico\n",
        "diccionario = {\"Caucasian\": 0, \"African American\": 1, \"Other/Unknown\": 2, \"Other/Unknown\": 3, \"Asian\": 4, \"Hispanic\": 5, \"Native American\": 6}\n",
        "df[\"ethnicity\"] = df[\"ethnicity\"].replace(diccionario)\n",
        "\n",
        "diccionario1 = {\"F\": 0, \"M\": 1}\n",
        "df[\"gender\"] = df[\"gender\"].replace(diccionario1)\n",
        "\n",
        "diccionario2 = {\"Accident & Emergency\": 0, \"Operating Room / Recovery\": 1, \"Floor\": 2, \"Other Hospital\": 3, \"Other ICU\": 4}\n",
        "df[\"icu_admit_source\"] = df[\"icu_admit_source\"].replace(diccionario2)\n",
        "\n",
        "diccionario3 = {\"admit\": 0, \"readmit\": 1, \"transfer\": 2}\n",
        "df[\"icu_stay_type\"] = df[\"icu_stay_type\"].replace(diccionario3)\n",
        "\n",
        "diccionario4 = {\"Med-Surg ICU\": 0, \"MICU\": 1, \"Neuro ICU\": 2, \"CCU-CTICU\": 3, \"SICU\": 4}\n",
        "df[\"icu_type\"] = df[\"icu_type\"].replace(diccionario4)\n",
        "\n",
        "diccionario5 = {\"Cardiovascular\": 0, \"Neurological\": 1, \"Sepsis\": 2, \"Respiratory\": 3, \"Gastrointestinal\": 4, \"Metabolic\": 5, \"Trauma\":6, \"Genitourinary\":7, \"Hematological\":8, \"Musculoskeletal/Skin\":9}\n",
        "df[\"apache_3j_bodysystem\"] = df[\"apache_3j_bodysystem\"].replace(diccionario5)\n",
        "\n",
        "diccionario6 = {\"Cardiovascular\": 0, \"Neurologic\": 1, \"Sepsis\": 2, \"Respiratory\": 3, \"Gastrointestinal\": 4, \"Metabolic\": 5, \"Trauma\":6, \"Renal/Genitourinary\":7, \"Undefined diagnoses\":8, \"Haematologic\":9, \"Undefined Diagnoses\":10}\n",
        "df[\"apache_2_bodysystem\"] = df[\"apache_2_bodysystem\"].replace(diccionario6)\n",
        "\n",
        "\n",
        "# eliminanos la columna vacía\n",
        "df = df.drop(\"Unnamed: 83\", axis=1)\n",
        "\n",
        "# Elimina duplicados\n",
        "df.drop_duplicates(inplace=True)\n",
        "\n",
        "# Elimina filas con 2 o más valores nulos\n",
        "df.dropna(axis=0, thresh=2, inplace=True)\n",
        "\n",
        "# Reemplaza los valores vacíos con 0\n",
        "df.fillna(0, inplace=True)\n",
        "\n",
        "# Seleccionar las características (features) y la variable objetivo (target)\n",
        "X_train = df.iloc[:73000, df.columns != \"hospital_death\"]\n",
        "y_train = df.iloc[:73000, df.columns.get_loc(\"hospital_death\")]\n",
        "\n",
        "X_test = df.iloc[73000:, df.columns != \"hospital_death\"]\n",
        "y_test = df.iloc[73000:, df.columns.get_loc(\"hospital_death\")]\n",
        "\n",
        "X = X_train\n",
        "y = y_train\n",
        "\n",
        "y = np.array([int(e) for e in y])\n",
        "y = np.squeeze(y)\n",
        "\n",
        "print(X.shape)\n",
        "print(y.shape)\n",
        "print(X_test.shape)\n",
        "print(y_test.shape)\n",
        "\n",
        "print(X)\n",
        "print(\"------------------------------------------------------------\")\n",
        "\n",
        "\n",
        "# Reemplazar los strings restantes con 13\n",
        "X = X.applymap(lambda x: 13 if isinstance(x, str) else x)\n",
        "\n",
        "# Verificar que no haya más strings en X\n",
        "rows_with_strings = X.applymap(lambda x: isinstance(x, str)).any(axis=1)\n",
        "\n",
        "\n",
        "\n",
        "# Mostrar las filas de X que aún contienen strings (debería estar vacío)\n",
        "print(X[rows_with_strings])\n",
        "\n"
      ],
      "metadata": {
        "colab": {
          "base_uri": "https://localhost:8080/"
        },
        "id": "Ruvd2bfIpt_W",
        "outputId": "cc0d06ab-0305-42ad-c130-cbe0ecfd6965"
      },
      "execution_count": 5,
      "outputs": [
        {
          "output_type": "stream",
          "name": "stdout",
          "text": [
            "(73000, 83)\n",
            "(73000,)\n",
            "(18713, 83)\n",
            "(18713,)\n",
            "       encounter_id  patient_id  hospital_id   age        bmi  \\\n",
            "0             66154       25312          118  68.0  22.730000   \n",
            "1            114252       59342           81  77.0  27.420000   \n",
            "2            119783       50777          118  25.0  31.950000   \n",
            "3             79267       46918          118  81.0  22.640000   \n",
            "4             92056       34377           33  19.0   0.000000   \n",
            "...             ...         ...          ...   ...        ...   \n",
            "72995            91       76807          185  50.0  38.222596   \n",
            "72996          8871      130448          159  62.0  31.110121   \n",
            "72997         73248      117775           64  88.0  20.796857   \n",
            "72998         97016      113823           13   0.0  19.357256   \n",
            "72999         53911       30158           13  74.0  24.993701   \n",
            "\n",
            "       elective_surgery  ethnicity  gender  height  icu_admit_source  ...  \\\n",
            "0                     0        0.0     1.0   180.3               2.0  ...   \n",
            "1                     0        0.0     0.0   160.0               2.0  ...   \n",
            "2                     0        0.0     0.0   172.7               0.0  ...   \n",
            "3                     1        0.0     0.0   165.1               1.0  ...   \n",
            "4                     0        0.0     1.0   188.0               0.0  ...   \n",
            "...                 ...        ...     ...     ...               ...  ...   \n",
            "72995                 0        0.0     1.0   172.7               0.0  ...   \n",
            "72996                 0        0.0     1.0   165.1               0.0  ...   \n",
            "72997                 0        0.0     0.0   154.9               0.0  ...   \n",
            "72998                 0        1.0     0.0   147.3               0.0  ...   \n",
            "72999                 0        4.0     1.0   157.5               2.0  ...   \n",
            "\n",
            "       aids  cirrhosis diabetes_mellitus  hepatic_failure  immunosuppression  \\\n",
            "0       0.0        0.0               1.0              0.0                0.0   \n",
            "1       0.0        0.0               1.0              0.0                0.0   \n",
            "2       0.0        0.0               0.0              0.0                0.0   \n",
            "3       0.0        0.0               0.0              0.0                0.0   \n",
            "4       0.0        0.0               0.0              0.0                0.0   \n",
            "...     ...        ...               ...              ...                ...   \n",
            "72995   0.0        0.0               1.0              0.0                0.0   \n",
            "72996   0.0        0.0               1.0              0.0                0.0   \n",
            "72997   0.0        0.0               0.0              0.0                0.0   \n",
            "72998   0.0        0.0               0.0              0.0                0.0   \n",
            "72999   0.0        0.0               0.0              0.0                0.0   \n",
            "\n",
            "       leukemia  lymphoma  solid_tumor_with_metastasis  apache_3j_bodysystem  \\\n",
            "0           0.0       0.0                          0.0                     2   \n",
            "1           0.0       0.0                          0.0                     3   \n",
            "2           0.0       0.0                          0.0                     5   \n",
            "3           0.0       0.0                          0.0                     0   \n",
            "4           0.0       0.0                          0.0                     6   \n",
            "...         ...       ...                          ...                   ...   \n",
            "72995       0.0       0.0                          0.0                     0   \n",
            "72996       0.0       0.0                          0.0                     0   \n",
            "72997       0.0       0.0                          0.0                     2   \n",
            "72998       0.0       0.0                          0.0                     2   \n",
            "72999       0.0       0.0                          0.0                     0   \n",
            "\n",
            "       apache_2_bodysystem  \n",
            "0                      0.0  \n",
            "1                      3.0  \n",
            "2                      5.0  \n",
            "3                      0.0  \n",
            "4                      6.0  \n",
            "...                    ...  \n",
            "72995                  0.0  \n",
            "72996                  0.0  \n",
            "72997                  0.0  \n",
            "72998                  0.0  \n",
            "72999                  0.0  \n",
            "\n",
            "[73000 rows x 83 columns]\n",
            "------------------------------------------------------------\n",
            "Empty DataFrame\n",
            "Columns: [encounter_id, patient_id, hospital_id, age, bmi, elective_surgery, ethnicity, gender, height, icu_admit_source, icu_id, icu_stay_type, icu_type, pre_icu_los_days, weight, apache_2_diagnosis, apache_3j_diagnosis, apache_post_operative, arf_apache, gcs_eyes_apache, gcs_motor_apache, gcs_unable_apache, gcs_verbal_apache, heart_rate_apache, intubated_apache, map_apache, resprate_apache, temp_apache, ventilated_apache, d1_diasbp_max, d1_diasbp_min, d1_diasbp_noninvasive_max, d1_diasbp_noninvasive_min, d1_heartrate_max, d1_heartrate_min, d1_mbp_max, d1_mbp_min, d1_mbp_noninvasive_max, d1_mbp_noninvasive_min, d1_resprate_max, d1_resprate_min, d1_spo2_max, d1_spo2_min, d1_sysbp_max, d1_sysbp_min, d1_sysbp_noninvasive_max, d1_sysbp_noninvasive_min, d1_temp_max, d1_temp_min, h1_diasbp_max, h1_diasbp_min, h1_diasbp_noninvasive_max, h1_diasbp_noninvasive_min, h1_heartrate_max, h1_heartrate_min, h1_mbp_max, h1_mbp_min, h1_mbp_noninvasive_max, h1_mbp_noninvasive_min, h1_resprate_max, h1_resprate_min, h1_spo2_max, h1_spo2_min, h1_sysbp_max, h1_sysbp_min, h1_sysbp_noninvasive_max, h1_sysbp_noninvasive_min, d1_glucose_max, d1_glucose_min, d1_potassium_max, d1_potassium_min, apache_4a_hospital_death_prob, apache_4a_icu_death_prob, aids, cirrhosis, diabetes_mellitus, hepatic_failure, immunosuppression, leukemia, lymphoma, solid_tumor_with_metastasis, apache_3j_bodysystem, apache_2_bodysystem]\n",
            "Index: []\n",
            "\n",
            "[0 rows x 83 columns]\n"
          ]
        }
      ]
    },
    {
      "cell_type": "code",
      "source": [
        "# Configurando parametros necesario\n",
        "input_layer_size  = 83  # Entrada de 83 caracteristicas\n",
        "hidden_layer_size = 10   # 10 unidades ocultas\n",
        "num_labels = 2         # 2 etiquetas, de 0 a 1\n",
        "\n",
        "# carga los pesos en las variables Theta1 y Theta2\n",
        "\n",
        "pesos = {}\n",
        "pesos['Theta1'] = np.random.rand(10, 84)\n",
        "pesos['Theta2'] = np.random.rand(2, 11)\n",
        "# print(pesos['Theta1'][:].shape)\n",
        "# print(pesos['Theta2'][:].shape)\n",
        "\n",
        "# print(weights['Theta1'][:].shape)\n",
        "# print(weights['Theta2'][:].shape)\n",
        "\n",
        "# print(weights['Theta1'][0])\n",
        "# print(np.roll(weights['Theta1'][0], 1, axis=0))\n",
        "# Theta1 tiene un tamaño de 25x401\n",
        "# Theta2 tiene un tamañó de 10x26\n",
        "# Theta1, Theta2 = weights['Theta1'], weights['Theta2']\n",
        "Theta1, Theta2 = pesos['Theta1'], pesos['Theta2']\n",
        "# se intercambia la ultima columa con la primera de Theta2, por cuestiones de indices que utiliza MATLAB\n",
        "# print(Theta2)\n",
        "# print(np.roll(Theta2, 1, axis=0))\n",
        "\n",
        "# Theta2 = np.roll(Theta2, 1, axis=0)\n",
        "\n",
        "# Desenrollar parámetros\n",
        "print(Theta1.ravel().shape)\n",
        "print(Theta2.ravel().shape)\n",
        "\n",
        "nn_params = np.concatenate([Theta1.ravel(), Theta2.ravel()])\n",
        "print(nn_params.shape)"
      ],
      "metadata": {
        "colab": {
          "base_uri": "https://localhost:8080/"
        },
        "id": "hePDh0GSpuB1",
        "outputId": "0870c519-cd63-42a5-d0d2-5b4d27af49e9"
      },
      "execution_count": null,
      "outputs": [
        {
          "output_type": "stream",
          "name": "stdout",
          "text": [
            "(840,)\n",
            "(22,)\n",
            "(862,)\n"
          ]
        }
      ]
    },
    {
      "cell_type": "code",
      "source": [
        "def sigmoid(z):\n",
        "    \"\"\"\n",
        "    Computes the sigmoid of z.\n",
        "    \"\"\"\n",
        "    return 1.0 / (1.0 + np.exp(-z))\n",
        "\n",
        "def sigmoidGradient(z):\n",
        "    \"\"\"\n",
        "    Computes the gradient of the sigmoid function for z.\n",
        "    \"\"\"\n",
        "    g = np.zeros(z.shape)\n",
        "    g = sigmoid(z) * (1 - sigmoid(z))\n",
        "    return g\n",
        "\n",
        "def normalize_features(X):\n",
        "    \"\"\"\n",
        "    Normalizes the features of input data X.\n",
        "    \"\"\"\n",
        "    return (X - np.mean(X, axis=0)) / np.std(X, axis=0)"
      ],
      "metadata": {
        "id": "InFztR_3puEH"
      },
      "execution_count": null,
      "outputs": []
    },
    {
      "cell_type": "code",
      "source": [
        "def nnCostFunction(nn_params,\n",
        "                   input_layer_size,\n",
        "                   hidden_layer_size,\n",
        "                   num_labels,\n",
        "                   X, y, lambda_=0.0):\n",
        "\n",
        "    # Reshape nn_params back into the parameters Theta1 and Theta2, the weight matrices\n",
        "    # for our 2 layer neural network\n",
        "    Theta1 = np.reshape(nn_params[:hidden_layer_size * (input_layer_size + 1)],\n",
        "                        (hidden_layer_size, (input_layer_size + 1)))\n",
        "\n",
        "    Theta2 = np.reshape(nn_params[(hidden_layer_size * (input_layer_size + 1)):],\n",
        "                        (num_labels, (hidden_layer_size + 1)))\n",
        "\n",
        "    m = y.size\n",
        "\n",
        "    J = 0\n",
        "    Theta1_grad = np.zeros(Theta1.shape)\n",
        "    Theta2_grad = np.zeros(Theta2.shape)\n",
        "\n",
        "    a1 = np.concatenate([np.ones((m, 1)), X], axis=1)\n",
        "\n",
        "    a2 = sigmoid(a1.dot(Theta1.T))\n",
        "    a2 = np.concatenate([np.ones((a2.shape[0], 1)), a2], axis=1)\n",
        "\n",
        "    a3 = sigmoid(a2.dot(Theta2.T))\n",
        "\n",
        "    # print(\"-\"*20)\n",
        "    # print(y.shape)\n",
        "    # print(y.reshape(-1))\n",
        "    # print(\"-\"*20)\n",
        "    y_matrix = y.reshape(-1)\n",
        "    # print(y.shape)\n",
        "    y_matrix = np.eye(num_labels)[y_matrix]\n",
        "    # print(y_matrix)\n",
        "\n",
        "    temp1 = Theta1\n",
        "    temp2 = Theta2\n",
        "\n",
        "    # Agregar el termino de regularización\n",
        "\n",
        "    reg_term = (lambda_ / (2 * m)) * (np.sum(np.square(temp1[:, 1:])) + np.sum(np.square(temp2[:, 1:])))\n",
        "\n",
        "    J = (-1 / m) * np.sum((np.log(a3) * y_matrix) + np.log(1 - a3) * (1 - y_matrix)) + reg_term\n",
        "\n",
        "    # Backpropogation\n",
        "\n",
        "    delta_3 = a3 - y_matrix\n",
        "    delta_2 = delta_3.dot(Theta2)[:, 1:] * sigmoidGradient(a1.dot(Theta1.T))\n",
        "\n",
        "    Delta1 = delta_2.T.dot(a1)\n",
        "    Delta2 = delta_3.T.dot(a2)\n",
        "\n",
        "    # Agregar regularización al gradiente\n",
        "\n",
        "    Theta1_grad = (1 / m) * Delta1\n",
        "    Theta1_grad[:, 1:] = Theta1_grad[:, 1:] + (lambda_ / m) * Theta1[:, 1:]\n",
        "\n",
        "    Theta2_grad = (1 / m) * Delta2\n",
        "    Theta2_grad[:, 1:] = Theta2_grad[:, 1:] + (lambda_ / m) * Theta2[:, 1:]\n",
        "\n",
        "    # ===================== Alterntate solutions =====================\n",
        "    # my_final_matrix = np.zeros(a3.shape)\n",
        "    # for c in np.arange(num_labels):\n",
        "    #    my_final_matrix[:, c] = (np.log(a3[:, c]) * (y == c)) + (np.log(1 - a3[:, c]) * (1 - (y == c)))\n",
        "    #J = (-1 / m) * np.sum(my_final_matrix)\n",
        "    # ================================================================\n",
        "\n",
        "    # ================================================================\n",
        "    # Unroll gradients\n",
        "    # grad = np.concatenate([Theta1_grad.ravel(order=order), Theta2_grad.ravel(order=order)])\n",
        "\n",
        "    grad = np.concatenate([Theta1_grad.ravel(), Theta2_grad.ravel()])\n",
        "\n",
        "    return J, grad"
      ],
      "metadata": {
        "id": "rciF8dnPx9m9"
      },
      "execution_count": null,
      "outputs": []
    },
    {
      "cell_type": "code",
      "source": [
        "lambda_ = 0\n",
        "J, _ = nnCostFunction(nn_params, input_layer_size, hidden_layer_size, num_labels, X, y, lambda_)\n",
        "print('Costo en parametros (cargado de ex4weights): %.6f ' % J)"
      ],
      "metadata": {
        "colab": {
          "base_uri": "https://localhost:8080/"
        },
        "id": "DXSRhzcpx9uS",
        "outputId": "96088e7c-0f4c-4c23-87ba-0cadf0b15845"
      },
      "execution_count": null,
      "outputs": [
        {
          "output_type": "stream",
          "name": "stdout",
          "text": [
            "Costo en parametros (cargado de ex4weights): 5.314798 \n"
          ]
        }
      ]
    },
    {
      "cell_type": "code",
      "source": [
        "z = np.array([-1, -0.5, 0, 0.5, 1])\n",
        "g = sigmoidGradient(z)\n",
        "print('Gradiente sigmoide evaluada con [-1 -0.5 0 0.5 1]:\\n  ')\n",
        "print(g)"
      ],
      "metadata": {
        "colab": {
          "base_uri": "https://localhost:8080/"
        },
        "id": "REcA3_7yx9x8",
        "outputId": "590644cb-dfd3-46da-a281-83303eb136a8"
      },
      "execution_count": null,
      "outputs": [
        {
          "output_type": "stream",
          "name": "stdout",
          "text": [
            "Gradiente sigmoide evaluada con [-1 -0.5 0 0.5 1]:\n",
            "  \n",
            "[0.19661193 0.23500371 0.25       0.23500371 0.19661193]\n"
          ]
        }
      ]
    },
    {
      "cell_type": "code",
      "source": [
        "def randInitializeWeights(L_in, L_out, epsilon_init=0.12):\n",
        "    \"\"\"\n",
        "    Randomly initialize the weights of a layer in a neural network.\n",
        "\n",
        "    Parameters\n",
        "    ----------\n",
        "    L_in : int\n",
        "        Number of incomming connections.\n",
        "\n",
        "    L_out : int\n",
        "        Number of outgoing connections.\n",
        "\n",
        "    epsilon_init : float, optional\n",
        "        Range of values which the weight can take from a uniform\n",
        "        distribution.\n",
        "\n",
        "    Returns\n",
        "    -------\n",
        "    W : array_like\n",
        "        The weight initialiatized to random values.  Note that W should\n",
        "        be set to a matrix of size(L_out, 1 + L_in) as\n",
        "        the first column of W handles the \"bias\" terms.\"\"\"\n",
        "\n",
        "\n",
        "    W = np.zeros((L_out, 1 + L_in))\n",
        "    W = np.random.rand(L_out, 1 + L_in) * 2 * epsilon_init - epsilon_init\n",
        "\n",
        "    return W"
      ],
      "metadata": {
        "id": "V8E8fpa32nSJ"
      },
      "execution_count": null,
      "outputs": []
    },
    {
      "cell_type": "code",
      "source": [
        "print('Inicialización de parámetros de redes neuronales...')\n",
        "\n",
        "initial_Theta1 = randInitializeWeights(input_layer_size, hidden_layer_size)\n",
        "initial_Theta2 = randInitializeWeights(hidden_layer_size, num_labels)\n",
        "\n",
        "# Desenrrollr parametros\n",
        "initial_nn_params = np.concatenate([initial_Theta1.ravel(), initial_Theta2.ravel()], axis=0)"
      ],
      "metadata": {
        "colab": {
          "base_uri": "https://localhost:8080/"
        },
        "id": "VbE-4iaT2nbn",
        "outputId": "0e0209b9-f0a6-4921-ff1f-9ab8fe47b5ba"
      },
      "execution_count": null,
      "outputs": [
        {
          "output_type": "stream",
          "name": "stdout",
          "text": [
            "Inicialización de parámetros de redes neuronales...\n"
          ]
        }
      ]
    },
    {
      "cell_type": "code",
      "source": [
        "options= {'maxiter': 1000}\n",
        "# Define lambda (parámetro de regularización)\n",
        "lambda_ = 1\n",
        "\n",
        "# Crea una función de costo abreviada para minimizar\n",
        "costFunction = lambda p: nnCostFunction(p, input_layer_size,\n",
        "                                        hidden_layer_size,\n",
        "                                        num_labels, X, y, lambda_)\n",
        "\n",
        "# Ejecuta la optimización\n",
        "res = optimize.minimize(costFunction,\n",
        "                        initial_nn_params,\n",
        "                        jac=True,\n",
        "                        method='TNC')\n",
        "\n",
        "# Obtiene la solución de la optimización\n",
        "nn_params = res.x\n",
        "\n",
        "# Obtiene Theta1 y Theta2 de nn_params\n",
        "Theta1 = np.reshape(nn_params[:hidden_layer_size * (input_layer_size + 1)],\n",
        "                    (hidden_layer_size, (input_layer_size + 1)))\n",
        "\n",
        "Theta2 = np.reshape(nn_params[(hidden_layer_size * (input_layer_size + 1)):],\n",
        "                    (num_labels, (hidden_layer_size + 1)))\n"
      ],
      "metadata": {
        "colab": {
          "base_uri": "https://localhost:8080/"
        },
        "id": "8CVKEgV52nk4",
        "outputId": "986bce1f-5aec-43a9-fa39-dd6825ffa355"
      },
      "execution_count": null,
      "outputs": [
        {
          "output_type": "stream",
          "name": "stderr",
          "text": [
            "<ipython-input-50-fb19a3c25f59>:5: RuntimeWarning: overflow encountered in exp\n",
            "  return 1.0 / (1.0 + np.exp(-z))\n"
          ]
        }
      ]
    },
    {
      "cell_type": "code",
      "source": [
        "def predict(Theta1, Theta2, X):\n",
        "    \"\"\"\n",
        "    Predict the label of an input given a trained neural network\n",
        "    Outputs the predicted label of X given the trained weights of a neural\n",
        "    network(Theta1, Theta2)\n",
        "    \"\"\"\n",
        "    # Useful values\n",
        "    m = X.shape[0]\n",
        "    num_labels = Theta2.shape[0]\n",
        "\n",
        "    # You need to return the following variables correctly\n",
        "    p = np.zeros(m)\n",
        "    h1 = sigmoid(np.dot(np.concatenate([np.ones((m, 1)), X], axis=1), Theta1.T))\n",
        "    h2 = sigmoid(np.dot(np.concatenate([np.ones((m, 1)), h1], axis=1), Theta2.T))\n",
        "    p = np.argmax(h2, axis=1)\n",
        "    return p"
      ],
      "metadata": {
        "id": "-i2w2IqC-QIe"
      },
      "execution_count": null,
      "outputs": []
    },
    {
      "cell_type": "code",
      "source": [
        "#valores con los datos de entrenamiento\n",
        "pred = predict(Theta1, Theta2, X[:100])\n",
        "accuracy = np.mean(pred == y[:100]) * 100\n",
        "print(pred)\n",
        "print('Training Set Accuracy: %.2f%%' % accuracy)"
      ],
      "metadata": {
        "colab": {
          "base_uri": "https://localhost:8080/"
        },
        "id": "RqO3gA3V-QL2",
        "outputId": "69c4725d-2cbd-40fc-d814-83c79ac70d7f"
      },
      "execution_count": null,
      "outputs": [
        {
          "output_type": "stream",
          "name": "stdout",
          "text": [
            "[0 1 0 0 0 0 0 0 0 0 0 0 0 0 0 0 0 0 0 0 0 0 0 0 0 1 0 0 0 0 0 0 0 0 0 0 0\n",
            " 0 0 0 0 0 0 0 0 0 1 1 0 0 0 0 0 0 0 0 0 0 0 0 0 0 0 0 0 0 0 0 0 0 0 0 0 0\n",
            " 0 0 0 0 0 0 0 0 0 0 0 0 0 0 0 0 1 0 0 0 0 0 0 1 0 0]\n",
            "Training Set Accuracy: 92.00%\n"
          ]
        },
        {
          "output_type": "stream",
          "name": "stderr",
          "text": [
            "<ipython-input-50-fb19a3c25f59>:5: RuntimeWarning: overflow encountered in exp\n",
            "  return 1.0 / (1.0 + np.exp(-z))\n"
          ]
        }
      ]
    },
    {
      "cell_type": "code",
      "source": [
        "#con los datos de prueba\n",
        "\n",
        "# Reemplazar los strings restantes con 13 en X_test\n",
        "X_test = X_test.applymap(lambda x: 13 if isinstance(x, str) else x)\n",
        "\n",
        "# Verificar que no haya más strings en X_test\n",
        "rows_with_strings_test = X_test.applymap(lambda x: isinstance(x, str)).any(axis=1)\n",
        "\n",
        "pred = predict(Theta1, Theta2, X_test[:100])\n",
        "accuracy = np.mean(pred == y_test[:100]) * 100\n",
        "print(pred)\n",
        "print('Training Set Accuracy: %.2f%%' % accuracy)"
      ],
      "metadata": {
        "colab": {
          "base_uri": "https://localhost:8080/"
        },
        "id": "nh7zQ0nI-44e",
        "outputId": "ac34ad55-989b-4924-8d2f-41fd6e22fbf4"
      },
      "execution_count": null,
      "outputs": [
        {
          "output_type": "stream",
          "name": "stdout",
          "text": [
            "[0 0 0 0 0 1 0 0 1 0 0 0 0 0 0 0 0 0 0 0 0 0 0 0 0 0 0 0 0 0 0 0 0 0 0 0 0\n",
            " 0 0 0 0 0 0 0 0 0 0 0 0 0 0 0 0 0 0 0 0 0 0 0 0 0 0 0 0 0 0 0 0 0 0 0 0 0\n",
            " 0 0 0 0 0 0 0 0 0 0 0 0 0 0 0 0 0 0 0 0 0 0 0 0 0 0]\n",
            "Training Set Accuracy: 90.00%\n"
          ]
        },
        {
          "output_type": "stream",
          "name": "stderr",
          "text": [
            "<ipython-input-50-fb19a3c25f59>:5: RuntimeWarning: overflow encountered in exp\n",
            "  return 1.0 / (1.0 + np.exp(-z))\n"
          ]
        }
      ]
    }
  ]
}