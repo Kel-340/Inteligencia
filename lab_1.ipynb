{
  "nbformat": 4,
  "nbformat_minor": 0,
  "metadata": {
    "colab": {
      "provenance": []
    },
    "kernelspec": {
      "name": "python3",
      "display_name": "Python 3"
    },
    "language_info": {
      "name": "python"
    }
  },
  "cells": [
    {
      "cell_type": "code",
      "source": [
        "from google.colab import drive\n",
        "drive.mount('/content/drive')"
      ],
      "metadata": {
        "colab": {
          "base_uri": "https://localhost:8080/"
        },
        "id": "6hDuSrRstobx",
        "outputId": "3fb0c46a-2cc7-419b-808e-bcd550517648"
      },
      "execution_count": 100,
      "outputs": [
        {
          "output_type": "stream",
          "name": "stdout",
          "text": [
            "Drive already mounted at /content/drive; to attempt to forcibly remount, call drive.mount(\"/content/drive\", force_remount=True).\n"
          ]
        }
      ]
    },
    {
      "cell_type": "code",
      "source": [
        "# utilizado para manejos de directorios y rutas\n",
        "import os\n",
        "\n",
        "# Computacion vectorial y cientifica para python\n",
        "import numpy as np\n",
        "\n",
        "# Librerias para graficación (trazado de gráficos)\n",
        "from matplotlib import pyplot\n",
        "from mpl_toolkits.mplot3d import Axes3D  # Necesario para graficar superficies 3D\n",
        "\n",
        "# llama a matplotlib a embeber graficas dentro de los cuadernillos\n",
        "%matplotlib inline\n",
        "\n",
        "from sklearn.preprocessing import StandardScaler\n",
        "\n"
      ],
      "metadata": {
        "id": "dA_oJMctu7rY"
      },
      "execution_count": 101,
      "outputs": []
    },
    {
      "cell_type": "code",
      "source": [
        "import numpy as np\n",
        "\n",
        "# Cargar datos del archivo CSV como cadenas\n",
        "data = np.genfromtxt('/content/sample_data/taxitripcorregido.csv', delimiter=',', dtype=str)\n",
        "\n",
        "# Extraer las columnas que necesitas\n",
        "X = data[:, [4, 5, 6, 8, 9, 10, 11, 12, 13, 14, 15, 16]]  # Tomar en cuenta solo los valores a partir de la 4ta columna y omitir la columna 7\n",
        "y = data[:, 17]  # La columna 18\n",
        "\n",
        "# Calcular el número de ejemplos de entrenamiento\n",
        "m = y.size\n",
        "\n",
        "print(X)"
      ],
      "metadata": {
        "colab": {
          "base_uri": "https://localhost:8080/"
        },
        "id": "hvOim3wMtxQJ",
        "outputId": "cad04223-16a6-4832-f334-dd6ef04000a9"
      },
      "execution_count": 102,
      "outputs": [
        {
          "output_type": "stream",
          "name": "stdout",
          "text": [
            "[['6' '3.34' '1' ... '2.76' '0' '0.3']\n",
            " ['1' '1.8' '1' ... '4' '0' '0.3']\n",
            " ['1' '1' '1' ... '1.45' '0' '0.3']\n",
            " ...\n",
            " ['1' '0.42' '1' ... '0' '0' '0.3']\n",
            " ['1' '2.36' '1' ... '1.7' '0' '0.3']\n",
            " ['1' '2.1' '1' ... '2.35' '0' '0.3']]\n"
          ]
        }
      ]
    },
    {
      "cell_type": "code",
      "source": [
        "from sklearn.preprocessing import MinMaxScaler\n",
        "\n",
        "# Convertir datos a tipo float\n",
        "X = X.astype(float)\n",
        "\n",
        "# Crear el objeto MinMaxScaler\n",
        "scaler = MinMaxScaler()\n",
        "\n",
        "# Ajustar el scaler a los datos y transformarlos\n",
        "X_normalized = scaler.fit_transform(X)\n",
        "\n",
        "print(X_normalized)"
      ],
      "metadata": {
        "colab": {
          "base_uri": "https://localhost:8080/"
        },
        "id": "MOjOMqNjx2LP",
        "outputId": "c0b31c6f-e551-4c5e-a363-5cba6f25172b"
      },
      "execution_count": 103,
      "outputs": [
        {
          "output_type": "stream",
          "name": "stdout",
          "text": [
            "[[1.         0.098351   0.         ... 0.0138     0.         1.        ]\n",
            " [0.16666667 0.05300353 0.         ... 0.02       0.         1.        ]\n",
            " [0.16666667 0.02944641 0.         ... 0.00725    0.         1.        ]\n",
            " ...\n",
            " [0.16666667 0.01236749 0.         ... 0.         0.         1.        ]\n",
            " [0.16666667 0.06949352 0.         ... 0.0085     0.         1.        ]\n",
            " [0.16666667 0.06183746 0.         ... 0.01175    0.         1.        ]]\n"
          ]
        }
      ]
    },
    {
      "cell_type": "code",
      "source": [
        "def featureNormalize(X):\n",
        "    mu = np.mean(X, axis=0)\n",
        "    sigma = np.std(X, axis=0)\n",
        "    X_norm = (X - mu) / sigma\n",
        "    return X_norm, mu, sigma\n",
        "\n",
        "# Convertir datos a tipo float\n",
        "X = X.astype(float)\n",
        "\n",
        "# Aplicar la normalización de características\n",
        "X_norm, mu, sigma = featureNormalize(X)\n",
        "\n",
        "print(\"Datos originales:\")\n",
        "print(X)\n",
        "print('Media calculada:', mu)\n",
        "print('Desviación estándar calculada:', sigma)\n",
        "print(\"Datos normalizados:\")\n",
        "print(X_norm)\n",
        ""
      ],
      "metadata": {
        "colab": {
          "base_uri": "https://localhost:8080/"
        },
        "id": "y7a22kYf2t56",
        "outputId": "362f62c8-c80f-42a6-cc9b-61b8909882bf"
      },
      "execution_count": 104,
      "outputs": [
        {
          "output_type": "stream",
          "name": "stdout",
          "text": [
            "Datos originales:\n",
            "[[6.   3.34 1.   ... 2.76 0.   0.3 ]\n",
            " [1.   1.8  1.   ... 4.   0.   0.3 ]\n",
            " [1.   1.   1.   ... 1.45 0.   0.3 ]\n",
            " ...\n",
            " [1.   0.42 1.   ... 0.   0.   0.3 ]\n",
            " [1.   2.36 1.   ... 1.7  0.   0.3 ]\n",
            " [1.   2.1  1.   ... 2.35 0.   0.3 ]]\n",
            "Media calculada: [  1.64231904   2.91331292   1.04339398 162.41235297 161.52799683\n",
            "   1.33688709  13.02662937   0.33327459   0.49744482   1.83578131\n",
            "   0.31254152   0.29955064]\n",
            "Desviación estándar calculada: [1.28520281e+00 3.65309071e+00 7.08375281e-01 6.66319056e+01\n",
            " 7.01381457e+01 4.96200127e-01 1.32434988e+01 4.63086378e-01\n",
            " 3.94641180e-02 2.80056458e+00 1.39918111e+00 1.56723924e-02]\n",
            "Datos normalizados:\n",
            "[[ 3.39065627  0.11680167 -0.06125846 ...  0.33001156 -0.2233746\n",
            "   0.02867201]\n",
            " [-0.4997803  -0.30475918 -0.06125846 ...  0.77277943 -0.2233746\n",
            "   0.02867201]\n",
            " [-0.4997803  -0.52375182 -0.06125846 ... -0.13775126 -0.2233746\n",
            "   0.02867201]\n",
            " ...\n",
            " [-0.4997803  -0.68252149 -0.06125846 ... -0.65550401 -0.2233746\n",
            "   0.02867201]\n",
            " [-0.4997803  -0.15146433 -0.06125846 ... -0.04848355 -0.2233746\n",
            "   0.02867201]\n",
            " [-0.4997803  -0.22263694 -0.06125846 ...  0.18361251 -0.2233746\n",
            "   0.02867201]]\n"
          ]
        }
      ]
    },
    {
      "cell_type": "code",
      "source": [
        "# Añadir el término de intersección a X\n",
        "# (Columna de unos para X0)\n",
        "X = np.concatenate([np.ones((m, 1)), X_norm], axis=1)"
      ],
      "metadata": {
        "id": "LdJ6-O6Y4u8o"
      },
      "execution_count": 105,
      "outputs": []
    },
    {
      "cell_type": "code",
      "source": [
        "print(X)"
      ],
      "metadata": {
        "colab": {
          "base_uri": "https://localhost:8080/"
        },
        "id": "rEUDCN4tzB9o",
        "outputId": "4fb8ef11-8561-4658-f995-4391f11c48c9"
      },
      "execution_count": 106,
      "outputs": [
        {
          "output_type": "stream",
          "name": "stdout",
          "text": [
            "[[ 1.          3.39065627  0.11680167 ...  0.33001156 -0.2233746\n",
            "   0.02867201]\n",
            " [ 1.         -0.4997803  -0.30475918 ...  0.77277943 -0.2233746\n",
            "   0.02867201]\n",
            " [ 1.         -0.4997803  -0.52375182 ... -0.13775126 -0.2233746\n",
            "   0.02867201]\n",
            " ...\n",
            " [ 1.         -0.4997803  -0.68252149 ... -0.65550401 -0.2233746\n",
            "   0.02867201]\n",
            " [ 1.         -0.4997803  -0.15146433 ... -0.04848355 -0.2233746\n",
            "   0.02867201]\n",
            " [ 1.         -0.4997803  -0.22263694 ...  0.18361251 -0.2233746\n",
            "   0.02867201]]\n"
          ]
        }
      ]
    },
    {
      "cell_type": "code",
      "source": [
        "def computeCostMulti(X, y, theta):\n",
        "    # Inicializa algunos valores útiles\n",
        "    m = y.shape[0]  # número de ejemplos de entrenamiento\n",
        "\n",
        "    J = 0\n",
        "\n",
        "    h = np.dot(X, theta)\n",
        "\n",
        "    J = (1 / (2 * m)) * np.sum(np.square(h - y))\n",
        "\n",
        "    return J"
      ],
      "metadata": {
        "id": "mB9gVG4AA4I1"
      },
      "execution_count": 107,
      "outputs": []
    },
    {
      "cell_type": "code",
      "source": [
        "def gradientDescentMulti(X, y, theta, alpha, num_iters):\n",
        "    # Inicializa algunos valores\n",
        "    m = y.shape[0]  # número de ejemplos de entrenamiento\n",
        "\n",
        "    # realiza una copia de theta, el cual será actualizada por el descenso por el gradiente\n",
        "    theta = theta.copy()\n",
        "\n",
        "    J_history = []\n",
        "\n",
        "    for i in range(num_iters):\n",
        "        theta = theta - (alpha / m) * np.dot(X.T, np.dot(X, theta) - y)\n",
        "        J_history.append(computeCostMulti(X, y, theta))\n",
        "\n",
        "    return theta, J_history"
      ],
      "metadata": {
        "id": "QezSFFqJA7yr"
      },
      "execution_count": 108,
      "outputs": []
    },
    {
      "cell_type": "code",
      "source": [
        "print(X.shape)"
      ],
      "metadata": {
        "colab": {
          "base_uri": "https://localhost:8080/"
        },
        "id": "eUhuG3UHB_FZ",
        "outputId": "434ceaf5-e0ab-4c6f-a836-a183b062bf20"
      },
      "execution_count": 109,
      "outputs": [
        {
          "output_type": "stream",
          "name": "stdout",
          "text": [
            "(22699, 13)\n"
          ]
        }
      ]
    },
    {
      "cell_type": "code",
      "source": [
        "import matplotlib.pyplot as plt\n",
        "\n",
        "# Elegir algún valor para alpha (probar varias alternativas)\n",
        "alpha = 0.001\n",
        "num_iters = 4000\n",
        "\n",
        "# Inicializa theta y ejecuta el descenso por el gradiente\n",
        "theta = np.zeros(X.shape[1])\n",
        "y = y.astype(float)\n",
        "theta, J_history = gradientDescentMulti(X, y, theta, alpha, num_iters)\n",
        "\n",
        "# Grafica la convergencia del costo\n",
        "plt.plot(np.arange(len(J_history)), J_history, lw=2)\n",
        "plt.xlabel('Numero de iteraciones')\n",
        "plt.ylabel('Costo J')\n",
        "plt.show()\n",
        "\n",
        "# Muestra los resultados del descenso por el gradiente\n",
        "print('Theta calculado por el descenso por el gradiente:', theta)\n",
        "\n",
        "\n",
        "X_array = np.array([1,1.8,1,186,43,1,16,0,0.5,4,0,0.3])\n",
        "X_array_normalized = (X_array - mu) / sigma\n",
        "X_array_normalized = np.insert(X_array_normalized, 0, 1)  # Agregar el término de intersección\n",
        "price = np.dot(X_array_normalized, theta)\n",
        "\n",
        "print('El precio predecido para un conjunto de características X_array (usando el descenso por el gradiente): ${:.2f}'.format(price))\n",
        "\n"
      ],
      "metadata": {
        "colab": {
          "base_uri": "https://localhost:8080/",
          "height": 540
        },
        "id": "7iDrXl_OBotS",
        "outputId": "dbf98ed7-1273-46e7-b5e5-89637c30c2a9"
      },
      "execution_count": 121,
      "outputs": [
        {
          "output_type": "display_data",
          "data": {
            "text/plain": [
              "<Figure size 640x480 with 1 Axes>"
            ],
            "image/png": "[encoded data removed]"
          },
          "metadata": {}
        },
        {
          "output_type": "stream",
          "name": "stdout",
          "text": [
            "Theta calculado por el descenso por el gradiente: [ 1.60123622e+01  9.14147356e-03  2.44776770e+00  2.80156662e-01\n",
            "  2.69533733e-02  4.68737454e-02  6.59044180e-01  9.68051478e+00\n",
            "  3.81353686e-01 -6.79211443e-01  4.46297513e+00  9.50819145e-01\n",
            "  6.54989484e-01]\n",
            "El precio predecido para un conjunto de características X_array (usando el descenso por el gradiente): $19.84\n"
          ]
        }
      ]
    },
    {
      "cell_type": "code",
      "source": [
        "X_array = np.array([1, 1, 1, 262, 236, 1, 6.5, 0, 0.5, 1.45, 0, 0.3])\n",
        "\n",
        "# Normalizar todas las características de X_array\n",
        "X_array = (X_array - mu) / sigma\n",
        "\n",
        "print(\"X_array normalizado:\", X_array)\n"
      ],
      "metadata": {
        "colab": {
          "base_uri": "https://localhost:8080/"
        },
        "id": "yk2-CPJLFYzi",
        "outputId": "35ed696f-03cb-4998-e59b-106d871da813"
      },
      "execution_count": 129,
      "outputs": [
        {
          "output_type": "stream",
          "name": "stdout",
          "text": [
            "X_array normalizado: [-0.4997803  -0.52375182 -0.06125846  1.49459401  1.06179031 -0.6789339\n",
            " -0.49281761 -0.71968127  0.06474688 -0.13775126 -0.2233746   0.02867201]\n"
          ]
        }
      ]
    },
    {
      "cell_type": "code",
      "source": [
        "# Agregar una columna de unos al principio de X_array para representar el término de intersección\n",
        "X_array_with_intercept = np.insert(X_array, 0, 1)\n",
        "\n",
        "# Calcular el precio predicho usando el producto punto\n",
        "price = np.dot(X_array_with_intercept, theta)\n",
        "\n",
        "# Imprimir el precio predicho\n",
        "print('El precio predicho para un conjunto de características X_array (usando el descenso por el gradiente): ${:.0f}'.format(price))\n"
      ],
      "metadata": {
        "colab": {
          "base_uri": "https://localhost:8080/"
        },
        "id": "9is2hcaWF1QD",
        "outputId": "d5d128c6-4a52-4131-c341-3e3940c14dac"
      },
      "execution_count": 132,
      "outputs": [
        {
          "output_type": "stream",
          "name": "stdout",
          "text": [
            "El precio predicho para un conjunto de características X_array (usando el descenso por el gradiente): $8\n"
          ]
        }
      ]
    },
    {
      "cell_type": "code",
      "source": [
        "X_array = np.array([1,2.1,1,239,236,1,11,0,0.5,2.35,0,0.3])\n",
        "\n",
        "# Normalizar todas las características de X_array\n",
        "X_array = (X_array - mu) / sigma\n",
        "\n",
        "print(\"X_array normalizado:\", X_array)"
      ],
      "metadata": {
        "colab": {
          "base_uri": "https://localhost:8080/"
        },
        "id": "gYOu7FP0IdpL",
        "outputId": "759f8e1a-0ff2-4086-f7bb-7f4d4d85e4c5"
      },
      "execution_count": 134,
      "outputs": [
        {
          "output_type": "stream",
          "name": "stdout",
          "text": [
            "X_array normalizado: [-0.4997803  -0.22263694 -0.06125846  1.14941403  1.06179031 -0.6789339\n",
            " -0.15302824 -0.71968127  0.06474688  0.18361251 -0.2233746   0.02867201]\n"
          ]
        }
      ]
    },
    {
      "cell_type": "code",
      "source": [
        "# Agregar una columna de unos al principio de X_array para representar el término de intersección\n",
        "X_array_with_intercept = np.insert(X_array, 0, 1)\n",
        "\n",
        "# Calcular el precio predicho usando el producto punto\n",
        "price = np.dot(X_array_with_intercept, theta)\n",
        "\n",
        "# Imprimir el precio predicho\n",
        "print('El precio predicho para un conjunto de características X_array (usando el descenso por el gradiente): ${:.0f}'.format(price))"
      ],
      "metadata": {
        "colab": {
          "base_uri": "https://localhost:8080/"
        },
        "id": "vFTP1S5fIfZs",
        "outputId": "3ebdf909-76bc-4462-bfc2-3ab5e05ca023"
      },
      "execution_count": 135,
      "outputs": [
        {
          "output_type": "stream",
          "name": "stdout",
          "text": [
            "El precio predicho para un conjunto de características X_array (usando el descenso por el gradiente): $14\n"
          ]
        }
      ]
    }
  ]
}